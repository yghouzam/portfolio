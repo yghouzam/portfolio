{
 "cells": [
  {
   "cell_type": "markdown",
   "metadata": {},
   "source": [
    "The purpose of this notebook is to propose a wine recommendation system based on the textual descriptions of the bottle:\n",
    "\n",
    "* go to https://www.kaggle.com/zynicide/wine-reviews#winemag-data-130k-v2.csv to ge the data (use the 130k bottles dataset)"
   ]
  },
  {
   "cell_type": "markdown",
   "metadata": {},
   "source": [
    "# Technical requirements\n",
    "Mandatory :\n",
    "\n",
    "    Disk space >= 1Gb \n",
    "    RAM >= 4 Gb\n",
    "\n",
    "    - Python 3.6.x\n",
    "    - numpy (1.18.0)\n",
    "    - pandas (0.23.1)\n",
    "    - matplotlib (2.1.2)\n",
    "    - seborn (0.8.1)\n",
    "    - wordcloud (1.6.0)\n",
    "    - nltk (3.4.5)\n",
    "    - spacy (2.2.3)\n",
    "    - sklearn (0.19.1)\n",
    "\n",
    "\n",
    "Optional:\n",
    "    - tensorflow-gpu (1.15.0)\n",
    "    - keras (with tensorflow backend)(2.2.5)\n",
    "    - tensorflow_hub (0.7.0)"
   ]
  },
  {
   "cell_type": "markdown",
   "metadata": {},
   "source": [
    "# Challenge description"
   ]
  },
  {
   "cell_type": "markdown",
   "metadata": {},
   "source": [
    "Author: **Yassine GHOUZAM PhD**"
   ]
  },
  {
   "cell_type": "markdown",
   "metadata": {},
   "source": [
    "Here we want to build our wine recommendation system. Three types of srecommendation system exists , collaborative filtering systems which are based on user's preferences, content based systems which are based on content description and hybrid system which are based on both content and user's preferences. \n",
    "Since our recommendation system will be based only on textual descriptions of the bottle, we will build a content based recommendation system.\n",
    "\n",
    "Let's first import our packages in order to address this task."
   ]
  },
  {
   "cell_type": "markdown",
   "metadata": {},
   "source": [
    "### Imports"
   ]
  },
  {
   "cell_type": "code",
   "execution_count": 1,
   "metadata": {},
   "outputs": [
    {
     "name": "stderr",
     "output_type": "stream",
     "text": [
      "[nltk_data] Downloading package stopwords to\n",
      "[nltk_data]     C:\\Users\\yassi\\AppData\\Roaming\\nltk_data...\n",
      "[nltk_data]   Package stopwords is already up-to-date!\n"
     ]
    }
   ],
   "source": [
    "import pandas as pd\n",
    "import numpy as np\n",
    "from PIL import Image\n",
    "import re\n",
    "import random\n",
    "import matplotlib.pyplot as plt\n",
    "import seaborn as sns\n",
    "from wordcloud import WordCloud\n",
    "import nltk\n",
    "from nltk.corpus import stopwords\n",
    "from nltk.tokenize import word_tokenize \n",
    "from nltk.stem.porter import PorterStemmer\n",
    "from nltk.stem.wordnet import WordNetLemmatizer\n",
    "from sklearn.feature_extraction.text import TfidfVectorizer, CountVectorizer\n",
    "from sklearn.metrics.pairwise import cosine_similarity,cosine_distances\n",
    "from sklearn.model_selection import train_test_split\n",
    "nltk.download('stopwords')\n",
    "\n",
    "pd.set_option('display.max_colwidth', -1)\n",
    "%matplotlib inline"
   ]
  },
  {
   "cell_type": "markdown",
   "metadata": {},
   "source": [
    "## Exploratory data analysis"
   ]
  },
  {
   "cell_type": "code",
   "execution_count": 2,
   "metadata": {},
   "outputs": [],
   "source": [
    "# Column 0 is used to index the dataframe\n",
    "df = pd.read_csv(\"winemag-data-130k-v2.csv\",index_col=0)"
   ]
  },
  {
   "cell_type": "code",
   "execution_count": 3,
   "metadata": {},
   "outputs": [
    {
     "data": {
      "text/html": [
       "<div>\n",
       "<style scoped>\n",
       "    .dataframe tbody tr th:only-of-type {\n",
       "        vertical-align: middle;\n",
       "    }\n",
       "\n",
       "    .dataframe tbody tr th {\n",
       "        vertical-align: top;\n",
       "    }\n",
       "\n",
       "    .dataframe thead th {\n",
       "        text-align: right;\n",
       "    }\n",
       "</style>\n",
       "<table border=\"1\" class=\"dataframe\">\n",
       "  <thead>\n",
       "    <tr style=\"text-align: right;\">\n",
       "      <th></th>\n",
       "      <th>country</th>\n",
       "      <th>description</th>\n",
       "      <th>designation</th>\n",
       "      <th>points</th>\n",
       "      <th>price</th>\n",
       "      <th>province</th>\n",
       "      <th>region_1</th>\n",
       "      <th>region_2</th>\n",
       "      <th>taster_name</th>\n",
       "      <th>taster_twitter_handle</th>\n",
       "      <th>title</th>\n",
       "      <th>variety</th>\n",
       "      <th>winery</th>\n",
       "    </tr>\n",
       "  </thead>\n",
       "  <tbody>\n",
       "    <tr>\n",
       "      <th>0</th>\n",
       "      <td>Italy</td>\n",
       "      <td>Aromas include tropical fruit, broom, brimstone and dried herb. The palate isn't overly expressive, offering unripened apple, citrus and dried sage alongside brisk acidity.</td>\n",
       "      <td>Vulkà Bianco</td>\n",
       "      <td>87</td>\n",
       "      <td>NaN</td>\n",
       "      <td>Sicily &amp; Sardinia</td>\n",
       "      <td>Etna</td>\n",
       "      <td>NaN</td>\n",
       "      <td>Kerin O’Keefe</td>\n",
       "      <td>@kerinokeefe</td>\n",
       "      <td>Nicosia 2013 Vulkà Bianco  (Etna)</td>\n",
       "      <td>White Blend</td>\n",
       "      <td>Nicosia</td>\n",
       "    </tr>\n",
       "    <tr>\n",
       "      <th>1</th>\n",
       "      <td>Portugal</td>\n",
       "      <td>This is ripe and fruity, a wine that is smooth while still structured. Firm tannins are filled out with juicy red berry fruits and freshened with acidity. It's  already drinkable, although it will certainly be better from 2016.</td>\n",
       "      <td>Avidagos</td>\n",
       "      <td>87</td>\n",
       "      <td>15.0</td>\n",
       "      <td>Douro</td>\n",
       "      <td>NaN</td>\n",
       "      <td>NaN</td>\n",
       "      <td>Roger Voss</td>\n",
       "      <td>@vossroger</td>\n",
       "      <td>Quinta dos Avidagos 2011 Avidagos Red (Douro)</td>\n",
       "      <td>Portuguese Red</td>\n",
       "      <td>Quinta dos Avidagos</td>\n",
       "    </tr>\n",
       "    <tr>\n",
       "      <th>2</th>\n",
       "      <td>US</td>\n",
       "      <td>Tart and snappy, the flavors of lime flesh and rind dominate. Some green pineapple pokes through, with crisp acidity underscoring the flavors. The wine was all stainless-steel fermented.</td>\n",
       "      <td>NaN</td>\n",
       "      <td>87</td>\n",
       "      <td>14.0</td>\n",
       "      <td>Oregon</td>\n",
       "      <td>Willamette Valley</td>\n",
       "      <td>Willamette Valley</td>\n",
       "      <td>Paul Gregutt</td>\n",
       "      <td>@paulgwine</td>\n",
       "      <td>Rainstorm 2013 Pinot Gris (Willamette Valley)</td>\n",
       "      <td>Pinot Gris</td>\n",
       "      <td>Rainstorm</td>\n",
       "    </tr>\n",
       "    <tr>\n",
       "      <th>3</th>\n",
       "      <td>US</td>\n",
       "      <td>Pineapple rind, lemon pith and orange blossom start off the aromas. The palate is a bit more opulent, with notes of honey-drizzled guava and mango giving way to a slightly astringent, semidry finish.</td>\n",
       "      <td>Reserve Late Harvest</td>\n",
       "      <td>87</td>\n",
       "      <td>13.0</td>\n",
       "      <td>Michigan</td>\n",
       "      <td>Lake Michigan Shore</td>\n",
       "      <td>NaN</td>\n",
       "      <td>Alexander Peartree</td>\n",
       "      <td>NaN</td>\n",
       "      <td>St. Julian 2013 Reserve Late Harvest Riesling (Lake Michigan Shore)</td>\n",
       "      <td>Riesling</td>\n",
       "      <td>St. Julian</td>\n",
       "    </tr>\n",
       "    <tr>\n",
       "      <th>4</th>\n",
       "      <td>US</td>\n",
       "      <td>Much like the regular bottling from 2012, this comes across as rather rough and tannic, with rustic, earthy, herbal characteristics. Nonetheless, if you think of it as a pleasantly unfussy country wine, it's a good companion to a hearty winter stew.</td>\n",
       "      <td>Vintner's Reserve Wild Child Block</td>\n",
       "      <td>87</td>\n",
       "      <td>65.0</td>\n",
       "      <td>Oregon</td>\n",
       "      <td>Willamette Valley</td>\n",
       "      <td>Willamette Valley</td>\n",
       "      <td>Paul Gregutt</td>\n",
       "      <td>@paulgwine</td>\n",
       "      <td>Sweet Cheeks 2012 Vintner's Reserve Wild Child Block Pinot Noir (Willamette Valley)</td>\n",
       "      <td>Pinot Noir</td>\n",
       "      <td>Sweet Cheeks</td>\n",
       "    </tr>\n",
       "  </tbody>\n",
       "</table>\n",
       "</div>"
      ],
      "text/plain": [
       "    country  \\\n",
       "0  Italy      \n",
       "1  Portugal   \n",
       "2  US         \n",
       "3  US         \n",
       "4  US         \n",
       "\n",
       "                                                                                                                                                                                                                                                 description  \\\n",
       "0  Aromas include tropical fruit, broom, brimstone and dried herb. The palate isn't overly expressive, offering unripened apple, citrus and dried sage alongside brisk acidity.                                                                                \n",
       "1  This is ripe and fruity, a wine that is smooth while still structured. Firm tannins are filled out with juicy red berry fruits and freshened with acidity. It's  already drinkable, although it will certainly be better from 2016.                         \n",
       "2  Tart and snappy, the flavors of lime flesh and rind dominate. Some green pineapple pokes through, with crisp acidity underscoring the flavors. The wine was all stainless-steel fermented.                                                                  \n",
       "3  Pineapple rind, lemon pith and orange blossom start off the aromas. The palate is a bit more opulent, with notes of honey-drizzled guava and mango giving way to a slightly astringent, semidry finish.                                                     \n",
       "4  Much like the regular bottling from 2012, this comes across as rather rough and tannic, with rustic, earthy, herbal characteristics. Nonetheless, if you think of it as a pleasantly unfussy country wine, it's a good companion to a hearty winter stew.   \n",
       "\n",
       "                          designation  points  price           province  \\\n",
       "0  Vulkà Bianco                        87     NaN     Sicily & Sardinia   \n",
       "1  Avidagos                            87      15.0   Douro               \n",
       "2  NaN                                 87      14.0   Oregon              \n",
       "3  Reserve Late Harvest                87      13.0   Michigan            \n",
       "4  Vintner's Reserve Wild Child Block  87      65.0   Oregon              \n",
       "\n",
       "              region_1           region_2         taster_name  \\\n",
       "0  Etna                 NaN                Kerin O’Keefe        \n",
       "1  NaN                  NaN                Roger Voss           \n",
       "2  Willamette Valley    Willamette Valley  Paul Gregutt         \n",
       "3  Lake Michigan Shore  NaN                Alexander Peartree   \n",
       "4  Willamette Valley    Willamette Valley  Paul Gregutt         \n",
       "\n",
       "  taster_twitter_handle  \\\n",
       "0  @kerinokeefe           \n",
       "1  @vossroger             \n",
       "2  @paulgwine             \n",
       "3  NaN                    \n",
       "4  @paulgwine             \n",
       "\n",
       "                                                                                 title  \\\n",
       "0  Nicosia 2013 Vulkà Bianco  (Etna)                                                     \n",
       "1  Quinta dos Avidagos 2011 Avidagos Red (Douro)                                         \n",
       "2  Rainstorm 2013 Pinot Gris (Willamette Valley)                                         \n",
       "3  St. Julian 2013 Reserve Late Harvest Riesling (Lake Michigan Shore)                   \n",
       "4  Sweet Cheeks 2012 Vintner's Reserve Wild Child Block Pinot Noir (Willamette Valley)   \n",
       "\n",
       "          variety               winery  \n",
       "0  White Blend     Nicosia              \n",
       "1  Portuguese Red  Quinta dos Avidagos  \n",
       "2  Pinot Gris      Rainstorm            \n",
       "3  Riesling        St. Julian           \n",
       "4  Pinot Noir      Sweet Cheeks         "
      ]
     },
     "execution_count": 3,
     "metadata": {},
     "output_type": "execute_result"
    }
   ],
   "source": [
    "# Display 5 firt rows of the dataframe\n",
    "df.head()"
   ]
  },
  {
   "cell_type": "code",
   "execution_count": 4,
   "metadata": {},
   "outputs": [
    {
     "name": "stdout",
     "output_type": "stream",
     "text": [
      "(129971, 13)\n"
     ]
    }
   ],
   "source": [
    "print(df.shape)"
   ]
  },
  {
   "cell_type": "markdown",
   "metadata": {},
   "source": [
    "### Columns selection"
   ]
  },
  {
   "cell_type": "markdown",
   "metadata": {},
   "source": [
    "Our dataset contains around 130k rows and 13 columns. We won't use all of them. Since we want only textual descriptions of the bottle we'll filter out columns we dont need.\n",
    "Suppose we want to keep only information that appears on the bottle, so we'll keep the country, description, province, title and variety.\n",
    "We get rid of the designation column since it is redundant with the title column."
   ]
  },
  {
   "cell_type": "code",
   "execution_count": 5,
   "metadata": {},
   "outputs": [],
   "source": [
    "df = df.drop(labels=[\"region_1\",\"region_2\",\"taster_name\",\"taster_twitter_handle\"],axis=1)"
   ]
  },
  {
   "cell_type": "code",
   "execution_count": 6,
   "metadata": {},
   "outputs": [],
   "source": [
    "## Version with all textual description that appears on the bottle\n",
    "df_text = df.drop(labels=[\"points\",\"designation\",\"price\",\"winery\"],axis=1).copy()\n",
    "\n",
    "## Version with only the textual description\n",
    "#df_text = df[[\"description\"]].copy()"
   ]
  },
  {
   "cell_type": "code",
   "execution_count": 7,
   "metadata": {},
   "outputs": [
    {
     "data": {
      "text/html": [
       "<div>\n",
       "<style scoped>\n",
       "    .dataframe tbody tr th:only-of-type {\n",
       "        vertical-align: middle;\n",
       "    }\n",
       "\n",
       "    .dataframe tbody tr th {\n",
       "        vertical-align: top;\n",
       "    }\n",
       "\n",
       "    .dataframe thead th {\n",
       "        text-align: right;\n",
       "    }\n",
       "</style>\n",
       "<table border=\"1\" class=\"dataframe\">\n",
       "  <thead>\n",
       "    <tr style=\"text-align: right;\">\n",
       "      <th></th>\n",
       "      <th>country</th>\n",
       "      <th>description</th>\n",
       "      <th>province</th>\n",
       "      <th>title</th>\n",
       "      <th>variety</th>\n",
       "    </tr>\n",
       "  </thead>\n",
       "  <tbody>\n",
       "    <tr>\n",
       "      <th>0</th>\n",
       "      <td>Italy</td>\n",
       "      <td>Aromas include tropical fruit, broom, brimstone and dried herb. The palate isn't overly expressive, offering unripened apple, citrus and dried sage alongside brisk acidity.</td>\n",
       "      <td>Sicily &amp; Sardinia</td>\n",
       "      <td>Nicosia 2013 Vulkà Bianco  (Etna)</td>\n",
       "      <td>White Blend</td>\n",
       "    </tr>\n",
       "    <tr>\n",
       "      <th>1</th>\n",
       "      <td>Portugal</td>\n",
       "      <td>This is ripe and fruity, a wine that is smooth while still structured. Firm tannins are filled out with juicy red berry fruits and freshened with acidity. It's  already drinkable, although it will certainly be better from 2016.</td>\n",
       "      <td>Douro</td>\n",
       "      <td>Quinta dos Avidagos 2011 Avidagos Red (Douro)</td>\n",
       "      <td>Portuguese Red</td>\n",
       "    </tr>\n",
       "    <tr>\n",
       "      <th>2</th>\n",
       "      <td>US</td>\n",
       "      <td>Tart and snappy, the flavors of lime flesh and rind dominate. Some green pineapple pokes through, with crisp acidity underscoring the flavors. The wine was all stainless-steel fermented.</td>\n",
       "      <td>Oregon</td>\n",
       "      <td>Rainstorm 2013 Pinot Gris (Willamette Valley)</td>\n",
       "      <td>Pinot Gris</td>\n",
       "    </tr>\n",
       "    <tr>\n",
       "      <th>3</th>\n",
       "      <td>US</td>\n",
       "      <td>Pineapple rind, lemon pith and orange blossom start off the aromas. The palate is a bit more opulent, with notes of honey-drizzled guava and mango giving way to a slightly astringent, semidry finish.</td>\n",
       "      <td>Michigan</td>\n",
       "      <td>St. Julian 2013 Reserve Late Harvest Riesling (Lake Michigan Shore)</td>\n",
       "      <td>Riesling</td>\n",
       "    </tr>\n",
       "    <tr>\n",
       "      <th>4</th>\n",
       "      <td>US</td>\n",
       "      <td>Much like the regular bottling from 2012, this comes across as rather rough and tannic, with rustic, earthy, herbal characteristics. Nonetheless, if you think of it as a pleasantly unfussy country wine, it's a good companion to a hearty winter stew.</td>\n",
       "      <td>Oregon</td>\n",
       "      <td>Sweet Cheeks 2012 Vintner's Reserve Wild Child Block Pinot Noir (Willamette Valley)</td>\n",
       "      <td>Pinot Noir</td>\n",
       "    </tr>\n",
       "  </tbody>\n",
       "</table>\n",
       "</div>"
      ],
      "text/plain": [
       "    country  \\\n",
       "0  Italy      \n",
       "1  Portugal   \n",
       "2  US         \n",
       "3  US         \n",
       "4  US         \n",
       "\n",
       "                                                                                                                                                                                                                                                 description  \\\n",
       "0  Aromas include tropical fruit, broom, brimstone and dried herb. The palate isn't overly expressive, offering unripened apple, citrus and dried sage alongside brisk acidity.                                                                                \n",
       "1  This is ripe and fruity, a wine that is smooth while still structured. Firm tannins are filled out with juicy red berry fruits and freshened with acidity. It's  already drinkable, although it will certainly be better from 2016.                         \n",
       "2  Tart and snappy, the flavors of lime flesh and rind dominate. Some green pineapple pokes through, with crisp acidity underscoring the flavors. The wine was all stainless-steel fermented.                                                                  \n",
       "3  Pineapple rind, lemon pith and orange blossom start off the aromas. The palate is a bit more opulent, with notes of honey-drizzled guava and mango giving way to a slightly astringent, semidry finish.                                                     \n",
       "4  Much like the regular bottling from 2012, this comes across as rather rough and tannic, with rustic, earthy, herbal characteristics. Nonetheless, if you think of it as a pleasantly unfussy country wine, it's a good companion to a hearty winter stew.   \n",
       "\n",
       "            province  \\\n",
       "0  Sicily & Sardinia   \n",
       "1  Douro               \n",
       "2  Oregon              \n",
       "3  Michigan            \n",
       "4  Oregon              \n",
       "\n",
       "                                                                                 title  \\\n",
       "0  Nicosia 2013 Vulkà Bianco  (Etna)                                                     \n",
       "1  Quinta dos Avidagos 2011 Avidagos Red (Douro)                                         \n",
       "2  Rainstorm 2013 Pinot Gris (Willamette Valley)                                         \n",
       "3  St. Julian 2013 Reserve Late Harvest Riesling (Lake Michigan Shore)                   \n",
       "4  Sweet Cheeks 2012 Vintner's Reserve Wild Child Block Pinot Noir (Willamette Valley)   \n",
       "\n",
       "          variety  \n",
       "0  White Blend     \n",
       "1  Portuguese Red  \n",
       "2  Pinot Gris      \n",
       "3  Riesling        \n",
       "4  Pinot Noir      "
      ]
     },
     "execution_count": 7,
     "metadata": {},
     "output_type": "execute_result"
    }
   ],
   "source": [
    "df_text.head()"
   ]
  },
  {
   "cell_type": "markdown",
   "metadata": {},
   "source": [
    "#### Duplicates rows\n",
    "Let's describe our columns."
   ]
  },
  {
   "cell_type": "code",
   "execution_count": 8,
   "metadata": {},
   "outputs": [
    {
     "data": {
      "text/html": [
       "<div>\n",
       "<style scoped>\n",
       "    .dataframe tbody tr th:only-of-type {\n",
       "        vertical-align: middle;\n",
       "    }\n",
       "\n",
       "    .dataframe tbody tr th {\n",
       "        vertical-align: top;\n",
       "    }\n",
       "\n",
       "    .dataframe thead th {\n",
       "        text-align: right;\n",
       "    }\n",
       "</style>\n",
       "<table border=\"1\" class=\"dataframe\">\n",
       "  <thead>\n",
       "    <tr style=\"text-align: right;\">\n",
       "      <th></th>\n",
       "      <th>country</th>\n",
       "      <th>description</th>\n",
       "      <th>province</th>\n",
       "      <th>title</th>\n",
       "      <th>variety</th>\n",
       "    </tr>\n",
       "  </thead>\n",
       "  <tbody>\n",
       "    <tr>\n",
       "      <th>count</th>\n",
       "      <td>129908</td>\n",
       "      <td>129971</td>\n",
       "      <td>129908</td>\n",
       "      <td>129971</td>\n",
       "      <td>129970</td>\n",
       "    </tr>\n",
       "    <tr>\n",
       "      <th>unique</th>\n",
       "      <td>43</td>\n",
       "      <td>119955</td>\n",
       "      <td>425</td>\n",
       "      <td>118840</td>\n",
       "      <td>707</td>\n",
       "    </tr>\n",
       "    <tr>\n",
       "      <th>top</th>\n",
       "      <td>US</td>\n",
       "      <td>Ripe plum, game, truffle, leather and menthol are some of the aromas you'll find on this earthy wine. The tightly wound palate offers dried black cherry, chopped sage, mint and roasted coffee bean alongside raspy tannins that leave a mouth-drying finish.</td>\n",
       "      <td>California</td>\n",
       "      <td>Gloria Ferrer NV Sonoma Brut Sparkling (Sonoma County)</td>\n",
       "      <td>Pinot Noir</td>\n",
       "    </tr>\n",
       "    <tr>\n",
       "      <th>freq</th>\n",
       "      <td>54504</td>\n",
       "      <td>3</td>\n",
       "      <td>36247</td>\n",
       "      <td>11</td>\n",
       "      <td>13272</td>\n",
       "    </tr>\n",
       "  </tbody>\n",
       "</table>\n",
       "</div>"
      ],
      "text/plain": [
       "       country  \\\n",
       "count   129908   \n",
       "unique  43       \n",
       "top     US       \n",
       "freq    54504    \n",
       "\n",
       "                                                                                                                                                                                                                                                           description  \\\n",
       "count   129971                                                                                                                                                                                                                                                           \n",
       "unique  119955                                                                                                                                                                                                                                                           \n",
       "top     Ripe plum, game, truffle, leather and menthol are some of the aromas you'll find on this earthy wine. The tightly wound palate offers dried black cherry, chopped sage, mint and roasted coffee bean alongside raspy tannins that leave a mouth-drying finish.   \n",
       "freq    3                                                                                                                                                                                                                                                                \n",
       "\n",
       "          province                                                   title  \\\n",
       "count   129908      129971                                                   \n",
       "unique  425         118840                                                   \n",
       "top     California  Gloria Ferrer NV Sonoma Brut Sparkling (Sonoma County)   \n",
       "freq    36247       11                                                       \n",
       "\n",
       "           variety  \n",
       "count   129970      \n",
       "unique  707         \n",
       "top     Pinot Noir  \n",
       "freq    13272       "
      ]
     },
     "execution_count": 8,
     "metadata": {},
     "output_type": "execute_result"
    }
   ],
   "source": [
    "describe = df_text.describe()\n",
    "describe"
   ]
  },
  {
   "cell_type": "code",
   "execution_count": 9,
   "metadata": {},
   "outputs": [],
   "source": [
    "describe = describe.transpose()[[\"count\",\"unique\"]]\n",
    "describe = describe.reset_index().rename(columns={\"index\":\"feature\"})"
   ]
  },
  {
   "cell_type": "code",
   "execution_count": 10,
   "metadata": {},
   "outputs": [
    {
     "data": {
      "image/png": "[encoded data removed]",
      "text/plain": [
       "<matplotlib.figure.Figure at 0x1c7ed284b70>"
      ]
     },
     "metadata": {
      "needs_background": "light"
     },
     "output_type": "display_data"
    }
   ],
   "source": [
    "#Barplot of uniques and counting rows\n",
    "f, ax = plt.subplots(figsize = (7,7))\n",
    "\n",
    "sns.set_color_codes('pastel')\n",
    "\n",
    "sns.barplot(x = 'feature', y = 'count', data = describe,\n",
    "           label = 'Total', color = 'b', edgecolor = 'w')\n",
    "sns.set_color_codes('muted')\n",
    "\n",
    "sns.barplot(x = 'feature', y = 'unique', data = describe,\n",
    "            label = 'Unique rows', color = 'b', edgecolor = 'w').set_ylabel(\"Number of rows\")\n",
    "\n",
    "ax.legend(ncol = 1, loc = 'lower right',bbox_to_anchor=(1.3, 0))\n",
    "sns.despine(left = True, bottom = True)\n",
    "\n",
    "plt.show()"
   ]
  },
  {
   "cell_type": "markdown",
   "metadata": {},
   "source": [
    "We have 43 differents wine countries , 425 wine provinces and 707 wine varieties. \n",
    "We have also duplicates columns since the description columns contains 120K unique texts instead of 130K. So we get rid of duplicates in our dataset.\n",
    "\n",
    "But before let's explore wine countries."
   ]
  },
  {
   "cell_type": "code",
   "execution_count": 11,
   "metadata": {},
   "outputs": [],
   "source": [
    "# Agreggation by counting each non null rows of the description feature and sorting them. \n",
    "country_counts= df_text.groupby(\"country\")[\"description\"].count().sort_values(ascending=False)[:10]\n",
    "labels_counts= country_counts.index"
   ]
  },
  {
   "cell_type": "code",
   "execution_count": 12,
   "metadata": {},
   "outputs": [
    {
     "data": {
      "image/png": "[encoded data removed]",
      "text/plain": [
       "<matplotlib.figure.Figure at 0x1c7ed284470>"
      ]
     },
     "metadata": {},
     "output_type": "display_data"
    }
   ],
   "source": [
    "# Set up the figure parameters\n",
    "plt.figure(1, figsize=(7,7))\n",
    "\n",
    "# Get the color range for the figure\n",
    "cmap = plt.get_cmap('Spectral')\n",
    "colors = [cmap(i) for i in np.linspace(0, 1, 10)]\n",
    "\n",
    "source_pie = plt.pie(x=country_counts, labels=labels_counts, autopct='%1.1f%%', shadow=True, colors=colors)\n",
    "\n",
    "# Set up the title\n",
    "plt.title('Pie of wine countries', fontsize=16)\n",
    "plt.show()"
   ]
  },
  {
   "cell_type": "markdown",
   "metadata": {},
   "source": [
    "United States represents the top country in our database with 44% of wines, followed by frane and italy which are closer. "
   ]
  },
  {
   "cell_type": "code",
   "execution_count": 13,
   "metadata": {},
   "outputs": [],
   "source": [
    "df_text = df_text.drop_duplicates()"
   ]
  },
  {
   "cell_type": "markdown",
   "metadata": {},
   "source": [
    "After removing duplicates we have now around 120k rows "
   ]
  },
  {
   "cell_type": "markdown",
   "metadata": {},
   "source": [
    "#### NaN values"
   ]
  },
  {
   "cell_type": "code",
   "execution_count": 14,
   "metadata": {},
   "outputs": [
    {
     "data": {
      "text/plain": [
       "country        59\n",
       "description    0 \n",
       "province       59\n",
       "title          0 \n",
       "variety        1 \n",
       "dtype: int64"
      ]
     },
     "execution_count": 14,
     "metadata": {},
     "output_type": "execute_result"
    }
   ],
   "source": [
    "df_text.isnull().sum()"
   ]
  },
  {
   "cell_type": "markdown",
   "metadata": {},
   "source": [
    "We have 59 NaN values concerning country and province features and 1 concerning variety.\n",
    "We could drop thoses rows or fill the NaN values with \"\" since these features contain few words contrary to the description column.\n",
    "I choose the last solution."
   ]
  },
  {
   "cell_type": "code",
   "execution_count": 15,
   "metadata": {},
   "outputs": [],
   "source": [
    "df_text = df_text.fillna(value=\"\")"
   ]
  },
  {
   "cell_type": "code",
   "execution_count": 16,
   "metadata": {},
   "outputs": [
    {
     "data": {
      "text/plain": [
       "country        0\n",
       "description    0\n",
       "province       0\n",
       "title          0\n",
       "variety        0\n",
       "dtype: int64"
      ]
     },
     "execution_count": 16,
     "metadata": {},
     "output_type": "execute_result"
    }
   ],
   "source": [
    "df_text.isnull().sum()"
   ]
  },
  {
   "cell_type": "markdown",
   "metadata": {},
   "source": [
    "### Feature concatenation\n",
    "We will concatenate all text features we have, into one feature.\n",
    "This will be our main feature for the model. "
   ]
  },
  {
   "cell_type": "code",
   "execution_count": 17,
   "metadata": {},
   "outputs": [],
   "source": [
    "text_description = df_text.apply(lambda x : ' '.join([x[col] for col in df_text.columns]) , axis=1).tolist()\n",
    "# equivalent to text_description = df_text[\"country\"] + ' ' +  df_text[\"description\"] + ' '+ df_text['province'] + ' '+ df_text['title'] + ' ' + df_text['variety']"
   ]
  },
  {
   "cell_type": "code",
   "execution_count": 18,
   "metadata": {},
   "outputs": [
    {
     "name": "stdout",
     "output_type": "stream",
     "text": [
      "Italy Aromas include tropical fruit, broom, brimstone and dried herb. The palate isn't overly expressive, offering unripened apple, citrus and dried sage alongside brisk acidity. Sicily & Sardinia Nicosia 2013 Vulkà Bianco  (Etna) White Blend\n"
     ]
    }
   ],
   "source": [
    "print(text_description[0])"
   ]
  },
  {
   "cell_type": "code",
   "execution_count": 19,
   "metadata": {},
   "outputs": [],
   "source": [
    "## We keep rows from the initial dataset that corresponds to our text dataframe\n",
    "df = df.loc[df_text.index]"
   ]
  },
  {
   "cell_type": "markdown",
   "metadata": {},
   "source": [
    "# Text preprocessing"
   ]
  },
  {
   "cell_type": "code",
   "execution_count": 20,
   "metadata": {},
   "outputs": [],
   "source": [
    "class TextProcessor():\n",
    "    \"\"\"\n",
    "    \"\"\"\n",
    "    def __init__(self, normalizer_name = \"wordnet\",language='english'):\n",
    "        assert language == 'english', 'Only english is implemented'\n",
    "        self.language = language\n",
    "        self.normalizer_name = normalizer_name\n",
    "        self.normalizer, self.normalize = self._set_normalizer()\n",
    "        self.stopswords = set(stopwords.words(self.language))\n",
    "    \n",
    "    \n",
    "    def preprocess(self,sentences):\n",
    "        \"\"\"\n",
    "        \"\"\"\n",
    "        # loop over all sentences\n",
    "        res = []\n",
    "        for sent in sentences:\n",
    "            clean_sent = self.clean_sentence(sent)\n",
    "            res.append(self.stops_words_and_normalize(clean_sent))\n",
    "        return res\n",
    "    \n",
    "    def clean_sentence(self,sent):\n",
    "        \"\"\"\n",
    "        \"\"\"\n",
    "        # Lowerise the sentence\n",
    "        res = sent.lower()\n",
    "        # We remove non-alphanumerical characters (replace by space)\n",
    "        res = re.sub(r\"\\W\",' ',res)\n",
    "        # remove single letters\n",
    "        res = re.sub(r'\\s+[a-z]\\s+',' ', res)\n",
    "        # substitute multiple spaces by one space\n",
    "        res = re.sub(r'\\s+',' ', res)\n",
    "        # Remove begining and ending spaces\n",
    "        res = res.strip()\n",
    "        return res\n",
    "        \n",
    "    def stops_words_and_normalize(self,sent):\n",
    "        \"\"\"\n",
    "        \"\"\"\n",
    "        # Sentence is tokenized and each non stops words is normalized\n",
    "        return ' '.join([self.normalize(w) for w in nltk.word_tokenize(sent)\n",
    "                         if w not in self.stopswords])\n",
    "    \n",
    "    def _set_normalizer(self):\n",
    "        \"\"\"\n",
    "        \"\"\"\n",
    "        if self.normalizer_name == \"wordnet\":\n",
    "            normalizer =  WordNetLemmatizer()\n",
    "            normalize = normalizer.lemmatize\n",
    "        elif self.normalizer_name == \"porter\":\n",
    "            normalizer =  PorterStemmer()\n",
    "            normalize = normalizer.stem\n",
    "        else:\n",
    "            raise NotImplementedError(\"'{}' normalizer is not implemented, please \\\n",
    "                                       use lemmatizer or porter\".format(self.normalizer_name))\n",
    "        \n",
    "        return normalizer, normalize"
   ]
  },
  {
   "cell_type": "markdown",
   "metadata": {},
   "source": [
    "The TextProcessor class contains methods for cleaning and normalize sentences.\n",
    "\n",
    "##### Sentences cleaning\n",
    "    - The method .clean_sentence() clean the sentence by changing it to lower-case form and removing all non-alphanumerical characters, single letters and multiples spaces.\n",
    "    \n",
    "##### Word normalization\n",
    "    - I choose to normalize words since we want to extract the general meaning of each word individually in textual descriptions (i.e fruits, fruited -> fruit). We are not doing seq2seq tasks that requires the understanding of the sentence grammar such as translation, text summarization and so on.\n",
    "    The method ._set_normalizer() sets and initiliaze the normalizer method and the .stops_words_and_normalize() normalizes words of each sentence. I'hve implemented two methods from the nltk library, a lemmatisation method which is based on the WordNet model and a stemmating method based on the Porter method.\n",
    "    I prefer lemmatisation but this method is more computionnaly expensive than Porter stemming. Since we have 130k textual descriptions we rather prefer using Porter stemming.\n",
    "    \n",
    "##### Stops words and tokenization\n",
    "    - Stops words are very common words in a sentence (i.e the , in , is , an , it ...) they have'nt any meaning in our textual descriptions. Moreover they are very frequent words and are meaningless. So used to get rid of these words. \n",
    "    The method .stops_words_and_normalize() first tokenize the sentence and removes the english stops words and normalize each non stops words of the sentences."
   ]
  },
  {
   "cell_type": "code",
   "execution_count": 21,
   "metadata": {},
   "outputs": [],
   "source": [
    "textprocessor = TextProcessor(normalizer_name=\"porter\")"
   ]
  },
  {
   "cell_type": "markdown",
   "metadata": {},
   "source": [
    "### text pre-processing"
   ]
  },
  {
   "cell_type": "code",
   "execution_count": 22,
   "metadata": {},
   "outputs": [
    {
     "name": "stdout",
     "output_type": "stream",
     "text": [
      "Wall time: 2min 3s\n"
     ]
    }
   ],
   "source": [
    "%%time\n",
    "# May take around 2 min\n",
    "processed_text = textprocessor.preprocess(text_description)"
   ]
  },
  {
   "cell_type": "markdown",
   "metadata": {},
   "source": [
    "### Wines Wordclouds"
   ]
  },
  {
   "cell_type": "code",
   "execution_count": 23,
   "metadata": {},
   "outputs": [],
   "source": [
    "def select_country_wines_text(df, all_text, country):\n",
    "    # We select the country based on the dataframe infos\n",
    "    bools = (df[\"country\"]==country)\n",
    "    \n",
    "    # we select the text feature based on the idx selected\n",
    "    text_country = [all_text[i] for i, b in enumerate(bools) if b]\n",
    "    \n",
    "    return text_country"
   ]
  },
  {
   "cell_type": "code",
   "execution_count": 24,
   "metadata": {},
   "outputs": [],
   "source": [
    "# Let's get french wines\n",
    "fr_texts = select_country_wines_text(df = df, all_text=processed_text,country=\"France\")\n",
    "\n",
    "# Let's get US wines\n",
    "us_texts = select_country_wines_text(df = df, all_text=processed_text,country=\"US\")\n",
    "\n",
    "# Let's get Italian wines\n",
    "it_texts = select_country_wines_text(df = df, all_text=processed_text,country=\"Italy\")"
   ]
  },
  {
   "cell_type": "code",
   "execution_count": 25,
   "metadata": {},
   "outputs": [],
   "source": [
    "def generate_wordcloud(texts, country):\n",
    "    # concat all words\n",
    "    concat_texts = \" \".join([text for text in texts])\n",
    "    \n",
    "    # Get the wordcloud object\n",
    "    wordcloud = WordCloud(background_color=\"white\",\n",
    "                      max_words=len(concat_texts),max_font_size=40,\n",
    "                      relative_scaling=.5,\n",
    "                    mask=np.array(Image.open(\"img/{}_mask.jpg\".format(country)))).generate(concat_texts)\n",
    "    return wordcloud"
   ]
  },
  {
   "cell_type": "code",
   "execution_count": 26,
   "metadata": {},
   "outputs": [
    {
     "data": {
      "image/png": "[encoded data removed]",
      "text/plain": [
       "<matplotlib.figure.Figure at 0x1c7fb544d30>"
      ]
     },
     "metadata": {
      "needs_background": "light"
     },
     "output_type": "display_data"
    }
   ],
   "source": [
    "fig,axs =  plt.subplots(ncols=3,figsize=(20,10))\n",
    "\n",
    "fr_wc = generate_wordcloud(texts = fr_texts,country=\"fr\")\n",
    "axs[0].imshow(fr_wc)\n",
    "axs[0].set_title(\"France top words\")\n",
    "axs[0].axis(\"off\")\n",
    "\n",
    "us_wc = generate_wordcloud(texts = us_texts,country=\"us\")\n",
    "axs[1].imshow(us_wc)\n",
    "axs[1].set_title(\"US top words\")\n",
    "axs[1].axis(\"off\")\n",
    "\n",
    "it_wc = generate_wordcloud(texts = it_texts,country=\"it\")\n",
    "axs[2].imshow(it_wc)\n",
    "axs[2].set_title(\"Italy top words\")\n",
    "axs[2].axis(\"off\")\n",
    "\n",
    "plt.show()"
   ]
  },
  {
   "cell_type": "markdown",
   "metadata": {},
   "source": [
    "# Text feature extraction"
   ]
  },
  {
   "cell_type": "markdown",
   "metadata": {},
   "source": [
    "After cleaning and normalizing each description. We will now process to the text feature extraction by converting our sentences into a list of vectors of values (matrix). We will call this process the text vectorization.\n",
    "\n",
    "We will implement two :\n",
    "    - The bag of words vectorizer\n",
    "    - The TfIDF vectorizer"
   ]
  },
  {
   "cell_type": "code",
   "execution_count": 27,
   "metadata": {},
   "outputs": [],
   "source": [
    "class Vectorizer():\n",
    "    \"\"\"\n",
    "    \"\"\"\n",
    "    def __init__(self,method=\"tfidf\", **kwargs):\n",
    "        self.method = method\n",
    "        self.kwargs = kwargs\n",
    "        self.vectorizer = self._set_vectorizer()\n",
    "    \n",
    "    def fit_transform(self,X):\n",
    "        \"\"\"\n",
    "        \"\"\"\n",
    "        self.vect_mtx = self.vectorizer.fit_transform(X)\n",
    "    \n",
    "    def vectorize(self,sentences):\n",
    "        \"\"\"\n",
    "        \"\"\"\n",
    "        return self.vectorizer.transform(sentences)\n",
    "    \n",
    "    def _set_vectorizer(self):\n",
    "        \"\"\"\n",
    "        \"\"\"\n",
    "        if self.method == \"tfidf\":\n",
    "            vectorizer =  TfidfVectorizer(**self.kwargs)\n",
    "        elif self.method == \"bow\":\n",
    "            vectorizer =  CountVectorizer(**self.kwargs)\n",
    "        else:\n",
    "            raise NotImplementedError(\"'{}' vectorizer is not implemented, please use 'bow'\\\n",
    "            for Countvectorizer or 'tfidf' for TfidfVectorizer\".format(self.method))\n",
    "        \n",
    "        return vectorizer"
   ]
  },
  {
   "cell_type": "markdown",
   "metadata": {},
   "source": [
    "The class Vectorizer contains the methods that vectorize the text.\n",
    "\n",
    "    -The method ._set_vectorizer() initialize the vectorizer (tfidf or bow with their arguments). I used the sklearn library implementation of TFIDF and BOW vectorizer.\n",
    "\n",
    "    -The method .fit_transform() fits the words of a list of sentences and transforms it into a matrix.\n",
    "\n",
    "    -The method .vectorize() transforms a list of sentences into a matrix using the fitted text information."
   ]
  },
  {
   "cell_type": "markdown",
   "metadata": {},
   "source": [
    "I choose to filter out all words that appears only in one document (min_df = 2) and in more than 80% of the documents (max_df = 0.8).\n",
    "\n",
    "Using bi or trigrams (ngram_range=(1,3)) would give better results since we take into account some contextual words but it may lead to a very huge number of differents words combination.\n",
    "\n",
    "### Bag Of words\n",
    "\n",
    "A bag of words is a representation of text that describes the occurrence of words within a document."
   ]
  },
  {
   "cell_type": "code",
   "execution_count": 28,
   "metadata": {},
   "outputs": [],
   "source": [
    "# BOW Vectorizer initialization\n",
    "cvec = Vectorizer(method=\"bow\",min_df = 2, max_df=0.8) #, ngram_range=(1,3))\n",
    "\n",
    "# BOW vectorizer fitting\n",
    "cvec.fit_transform(processed_text)"
   ]
  },
  {
   "cell_type": "markdown",
   "metadata": {},
   "source": [
    "### TF-IDF\n",
    "\n",
    "TF-IDF is a method that counts the occurrence of each words in a document and weight the importance of each words, in order to calculate a score for that document.\n",
    "\n",
    "It is composed of two terms :\n",
    "    - Term Frequency\n",
    "    - Inverse Document Frequency\n",
    "\n",
    "The term frequency is the frequency of the word in the current document to the total number of words in the document. It signifies the occurrence of the word in a document and gives higher weight when the frequency is more so it is divided by document length to normalize.\n",
    "\n",
    "\n",
    "The inverse Document Frequency is the total number of documents to the frequency occurrence of documents containing the word. It signifies the rarity of the word as the word occurring the document is less the IDF increases. It helps in giving a higher score to rare terms in the documents."
   ]
  },
  {
   "cell_type": "code",
   "execution_count": 29,
   "metadata": {},
   "outputs": [],
   "source": [
    "# TFIDF vectorizer initialization\n",
    "tfidfvec = Vectorizer(method=\"tfidf\", min_df = 2, max_df=0.8) #, ngram_range=(1,3))\n",
    "\n",
    "# TfIDF vectorizer fitting\n",
    "tfidfvec.fit_transform(processed_text)"
   ]
  },
  {
   "cell_type": "markdown",
   "metadata": {},
   "source": [
    "# Recommender system"
   ]
  },
  {
   "cell_type": "markdown",
   "metadata": {},
   "source": [
    "### Recommenders System using Word embeddings with Spacy (may take around 5 minutes to compute)"
   ]
  },
  {
   "cell_type": "markdown",
   "metadata": {},
   "source": [
    "Here we used Spacy similarity function between documents.\n",
    "This function compute a cosine similarity based on the embedded documents.\n",
    " - First the document or the sentence is tokenized (i.e split into separate words).\n",
    " - Each word is embedded using the GloVe vectors (GloVe is Matrix Factorization of log counts with respect to weigthed squared loss) (by default 300 embedding dimensions)\n",
    " - The embedded document/sentence is computed by averaging each word vectors of the document/sentence.\n",
    " - A cosinue similarity is then computed between the two vectors"
   ]
  },
  {
   "cell_type": "code",
   "execution_count": 30,
   "metadata": {},
   "outputs": [],
   "source": [
    "# Spacy has to be installed and the english medium model also \n",
    "# python -m spacy download en_core_web_md\n",
    "import spacy\n",
    "nlp = spacy.load('en_core_web_md',disable=[\"parser\",\"ner\"])\n",
    "\n",
    "class SpacySimilarity():\n",
    "    \"\"\"\n",
    "    \"\"\"\n",
    "    def __init__(self):\n",
    "        pass\n",
    "        \n",
    "    def compute_spacy_database(self, sentences):\n",
    "        \"\"\"\n",
    "        \"\"\"\n",
    "        # Each processed text have to be converted into spacy objects\n",
    "        self.docs = [nlp('u\"'+sent+'\"') for sent in sentences]\n",
    "        \n",
    "    def spacy_similarity(self, query):\n",
    "        \"\"\"\n",
    "        \"\"\"\n",
    "        # Convert the query into Spacy object\n",
    "        query_spacy = nlp('u\"'+query+'\"')\n",
    "        # Compute similarity between the query and all the database\n",
    "        results = [query_spacy.similarity(sent) for sent in self.docs]\n",
    "        return np.array(results) "
   ]
  },
  {
   "cell_type": "code",
   "execution_count": 31,
   "metadata": {},
   "outputs": [
    {
     "name": "stdout",
     "output_type": "stream",
     "text": [
      "Wall time: 6min 24s\n"
     ]
    }
   ],
   "source": [
    "%%time\n",
    "# initiliaze SpacySimilarity object\n",
    "spacysim = SpacySimilarity()\n",
    "# transform each documents to spacy objects (take around 5 minutes to compute)\n",
    "spacysim.compute_spacy_database(processed_text)"
   ]
  },
  {
   "cell_type": "markdown",
   "metadata": {},
   "source": [
    "### Using TFIDF/BOW and cosine similarity"
   ]
  },
  {
   "cell_type": "markdown",
   "metadata": {},
   "source": [
    "![cosine](img/cosine-similarity.png)"
   ]
  },
  {
   "cell_type": "markdown",
   "metadata": {},
   "source": [
    "Cosine similarity is a metric used to determine how similar the documents are irrespective of their size.\n",
    "\n",
    "This metric is based on the angle between two vectors projected in a multi-dimensional space. In our context, the two vectors containing the word counts or word embedding of two documents.\n",
    "\n",
    "The cosine similarity is advantageous because even if the two compared documents are very different regarding their lenght , the cosine similarity still high."
   ]
  },
  {
   "cell_type": "markdown",
   "metadata": {},
   "source": [
    "We have done text feature extractions using some description of bottle wine. \n",
    "We have now each wine bottle described using Tf-IDF or Bag of words matrices.\n",
    "We use cosine similarity to compute the distance between two bottle's descriptions"
   ]
  },
  {
   "cell_type": "code",
   "execution_count": 32,
   "metadata": {},
   "outputs": [],
   "source": [
    "class Recommender():\n",
    "    \"\"\"\n",
    "    \"\"\"\n",
    "    def __init__(self, database, vectorizer=None, use_spacy=False):\n",
    "        self.database = database\n",
    "        self.use_spacy = use_spacy\n",
    "        \n",
    "        if not self.use_spacy:\n",
    "            assert vectorizer is not None, '\"use_spacy = False\" requires vectorizer not None'\n",
    "            self.vectorizer = vectorizer\n",
    "            assert self.vectorizer.vect_mtx.shape[0] == len(database), 'vectorizer and database lengths are different.\\\n",
    "                                                                        Vectorizer must be fit on database'\n",
    "        else :\n",
    "            assert len(spacysim.docs) == len(database), 'spacysim.compute_spacy_database()\\\n",
    "                                                         must be computed on database'\n",
    "            \n",
    "    def recommend(self, query, N = 10):\n",
    "        \"\"\"\n",
    "        \"\"\"\n",
    "        # Process the query sentence\n",
    "        processed_query = textprocessor.preprocess([query])\n",
    "        \n",
    "        if self.use_spacy:\n",
    "            # Compute similarity between query and database using spacy (word2vec embedding)\n",
    "            results = spacysim.spacy_similarity(query=processed_query[0])\n",
    "        \n",
    "        else :\n",
    "            # Transform the query with the Vectorizer\n",
    "            query_mtx = self.vectorizer.vectorize(processed_query)\n",
    "            \n",
    "            # Compute cosine similarity between the query and the database\n",
    "            results = cosine_similarity(query_mtx, self.vectorizer.vect_mtx).reshape(-1)\n",
    "            \n",
    "        # Results are reverse sorted\n",
    "        idx = results.argsort()[::-1][:N]\n",
    "        \n",
    "        print(\"Query : {}\".format(query))\n",
    "        df_reco = self.database.iloc[idx].copy()\n",
    "        df_reco[\"score\"] = results[idx]\n",
    "    \n",
    "        return df_reco.reset_index(drop=False)"
   ]
  },
  {
   "cell_type": "markdown",
   "metadata": {},
   "source": [
    "#### Recommendation using K-Nearest Neighbors \n",
    "\n",
    "Let's use a simple algorithm perfectly adapted for recommendation systems, K-Nearest Neighbors (KNN).\n",
    "\n",
    "KNN is a simple algorithm that stores all input data and classifies new input based on a similarity measure.\n",
    "\n",
    "By default the metric used in the KNN is a generalization form of the euclidian distance (Minowski distance). The p parameter controls the form of the minowski metric (e.g p=1 and p=2 corresponds to the Manhatthan and euclidian distance respectively). I have set up the p parameter to 2 which correpond to an euclidian distance form of the minowski metric."
   ]
  },
  {
   "cell_type": "code",
   "execution_count": 33,
   "metadata": {},
   "outputs": [],
   "source": [
    "from sklearn.neighbors import NearestNeighbors"
   ]
  },
  {
   "cell_type": "code",
   "execution_count": 34,
   "metadata": {},
   "outputs": [],
   "source": [
    "class KNNrecommender():\n",
    "    \"\"\"\n",
    "    \"\"\"\n",
    "    def __init__(self, vectorizer, **kwargs):\n",
    "        self.kwargs = kwargs\n",
    "        self.vectorizer = vectorizer\n",
    "        self.KNN = NearestNeighbors(**kwargs)\n",
    "        self.KNNfit()\n",
    "        \n",
    "    def KNNfit(self):\n",
    "        \"\"\"\n",
    "        \"\"\"\n",
    "        self.KNN.fit(self.vectorizer.vect_mtx)\n",
    "    \n",
    "    def KNNrecommend(self,query, database, N=10):\n",
    "        \"\"\"\n",
    "        \"\"\"\n",
    "        assert len(database) == self.vectorizer.vect_mtx.shape[0], 'vectorizer and database lengths\\\n",
    "                                                                    are different. Vectorizer must be fit on database'\n",
    "        assert N <= self.KNN.n_neighbors , 'N must be <= to KNN.n_neighbors'\n",
    "        processed_query = textprocessor.preprocess([query])\n",
    "\n",
    "        query_mtx = self.vectorizer.vectorize(processed_query)\n",
    "        distances, indices = self.KNN.kneighbors(query_mtx, return_distance=True)\n",
    "\n",
    "        print('Query : {}'.format(query))\n",
    "        df_reco = database.iloc[indices[0][:N]].copy()\n",
    "        df_reco['distance'] = distances[0][:N]\n",
    "\n",
    "        return df_reco.reset_index(drop=False)"
   ]
  },
  {
   "cell_type": "markdown",
   "metadata": {},
   "source": [
    "## Results \n",
    "\n",
    "It's hard to compare recommendation system when you dont have any rating from users. So we will do it mannually. Indeed the real true metric of recommendation systems is the A/B testing. For instance, we compare our recommendation system to a random based system and get the evaluation from the users. the metrics you use should be adjusted to the specific use case and measure what’s relevant to the business. For example you could measure the interaction (click rate...) and business impact with and without this recommendation system."
   ]
  },
  {
   "cell_type": "markdown",
   "metadata": {},
   "source": [
    "#### Recommendation using KNN based on BOW matrices"
   ]
  },
  {
   "cell_type": "code",
   "execution_count": 35,
   "metadata": {},
   "outputs": [
    {
     "name": "stdout",
     "output_type": "stream",
     "text": [
      "Query : California orange wine\n"
     ]
    },
    {
     "data": {
      "text/html": [
       "<div>\n",
       "<style scoped>\n",
       "    .dataframe tbody tr th:only-of-type {\n",
       "        vertical-align: middle;\n",
       "    }\n",
       "\n",
       "    .dataframe tbody tr th {\n",
       "        vertical-align: top;\n",
       "    }\n",
       "\n",
       "    .dataframe thead th {\n",
       "        text-align: right;\n",
       "    }\n",
       "</style>\n",
       "<table border=\"1\" class=\"dataframe\">\n",
       "  <thead>\n",
       "    <tr style=\"text-align: right;\">\n",
       "      <th></th>\n",
       "      <th>index</th>\n",
       "      <th>country</th>\n",
       "      <th>description</th>\n",
       "      <th>designation</th>\n",
       "      <th>points</th>\n",
       "      <th>price</th>\n",
       "      <th>province</th>\n",
       "      <th>title</th>\n",
       "      <th>variety</th>\n",
       "      <th>winery</th>\n",
       "      <th>distance</th>\n",
       "    </tr>\n",
       "  </thead>\n",
       "  <tbody>\n",
       "    <tr>\n",
       "      <th>0</th>\n",
       "      <td>94597</td>\n",
       "      <td>US</td>\n",
       "      <td>This has creamy flavors of vanilla, honey, lime and orange.</td>\n",
       "      <td>NaN</td>\n",
       "      <td>82</td>\n",
       "      <td>10.0</td>\n",
       "      <td>California</td>\n",
       "      <td>Bogle 2011 Chardonnay (California)</td>\n",
       "      <td>Chardonnay</td>\n",
       "      <td>Bogle</td>\n",
       "      <td>3.741657</td>\n",
       "    </tr>\n",
       "    <tr>\n",
       "      <th>1</th>\n",
       "      <td>121851</td>\n",
       "      <td>US</td>\n",
       "      <td>You can technically call this a table wine, but it's really sweet, with orange and honey flavors.</td>\n",
       "      <td>NaN</td>\n",
       "      <td>84</td>\n",
       "      <td>10.0</td>\n",
       "      <td>California</td>\n",
       "      <td>Discoveries 2010 Moscato (California)</td>\n",
       "      <td>Moscato</td>\n",
       "      <td>Discoveries</td>\n",
       "      <td>3.872983</td>\n",
       "    </tr>\n",
       "    <tr>\n",
       "      <th>2</th>\n",
       "      <td>23920</td>\n",
       "      <td>US</td>\n",
       "      <td>A simple wine, it tastes overoaked and thin in oranges and apricots, with brisk acidity.</td>\n",
       "      <td>NaN</td>\n",
       "      <td>82</td>\n",
       "      <td>22.0</td>\n",
       "      <td>California</td>\n",
       "      <td>Jacella 2011 Chardonnay (Carneros)</td>\n",
       "      <td>Chardonnay</td>\n",
       "      <td>Jacella</td>\n",
       "      <td>3.872983</td>\n",
       "    </tr>\n",
       "    <tr>\n",
       "      <th>3</th>\n",
       "      <td>83840</td>\n",
       "      <td>US</td>\n",
       "      <td>A soft, simple wine, with cherry cough medicine flavors.</td>\n",
       "      <td>NaN</td>\n",
       "      <td>81</td>\n",
       "      <td>10.0</td>\n",
       "      <td>California</td>\n",
       "      <td>Discoveries 2009 Merlot (California)</td>\n",
       "      <td>Merlot</td>\n",
       "      <td>Discoveries</td>\n",
       "      <td>3.872983</td>\n",
       "    </tr>\n",
       "    <tr>\n",
       "      <th>4</th>\n",
       "      <td>21841</td>\n",
       "      <td>US</td>\n",
       "      <td>Watery and sweet, with apricot and orange jam flavors.</td>\n",
       "      <td>NaN</td>\n",
       "      <td>80</td>\n",
       "      <td>11.0</td>\n",
       "      <td>California</td>\n",
       "      <td>Kitchen Sink NV Chardonnay (California)</td>\n",
       "      <td>Chardonnay</td>\n",
       "      <td>Kitchen Sink</td>\n",
       "      <td>3.872983</td>\n",
       "    </tr>\n",
       "    <tr>\n",
       "      <th>5</th>\n",
       "      <td>123451</td>\n",
       "      <td>US</td>\n",
       "      <td>As sweet as a dessert wine, with simple pineapple jam flavors.</td>\n",
       "      <td>NaN</td>\n",
       "      <td>82</td>\n",
       "      <td>9.0</td>\n",
       "      <td>California</td>\n",
       "      <td>Surf Point 2010 Chardonnay (California)</td>\n",
       "      <td>Chardonnay</td>\n",
       "      <td>Surf Point</td>\n",
       "      <td>4.000000</td>\n",
       "    </tr>\n",
       "    <tr>\n",
       "      <th>6</th>\n",
       "      <td>113382</td>\n",
       "      <td>US</td>\n",
       "      <td>Seemingly sweet and simple, this has orange and butterscotch candy flavors.</td>\n",
       "      <td>NaN</td>\n",
       "      <td>82</td>\n",
       "      <td>10.0</td>\n",
       "      <td>California</td>\n",
       "      <td>Lost Angel 2010 Chardonnay (California)</td>\n",
       "      <td>Chardonnay</td>\n",
       "      <td>Lost Angel</td>\n",
       "      <td>4.000000</td>\n",
       "    </tr>\n",
       "    <tr>\n",
       "      <th>7</th>\n",
       "      <td>108278</td>\n",
       "      <td>US</td>\n",
       "      <td>Sweet and simple, with jammy raspberry and bubblegum flavors.</td>\n",
       "      <td>NaN</td>\n",
       "      <td>82</td>\n",
       "      <td>7.0</td>\n",
       "      <td>California</td>\n",
       "      <td>Barefoot NV Shiraz (California)</td>\n",
       "      <td>Shiraz</td>\n",
       "      <td>Barefoot</td>\n",
       "      <td>4.000000</td>\n",
       "    </tr>\n",
       "    <tr>\n",
       "      <th>8</th>\n",
       "      <td>30141</td>\n",
       "      <td>US</td>\n",
       "      <td>This is a rewarding wine, with flavors of orange and pineapple. It finishes with a honeyed minerality.</td>\n",
       "      <td>NaN</td>\n",
       "      <td>87</td>\n",
       "      <td>17.0</td>\n",
       "      <td>California</td>\n",
       "      <td>Wild Horse 2010 Chardonnay (Central Coast)</td>\n",
       "      <td>Chardonnay</td>\n",
       "      <td>Wild Horse</td>\n",
       "      <td>4.000000</td>\n",
       "    </tr>\n",
       "    <tr>\n",
       "      <th>9</th>\n",
       "      <td>48356</td>\n",
       "      <td>US</td>\n",
       "      <td>So sweet, it's basically a dessert wine, with simple, sugary flavors of oranges, apricots and vanilla.</td>\n",
       "      <td>NaN</td>\n",
       "      <td>82</td>\n",
       "      <td>12.0</td>\n",
       "      <td>California</td>\n",
       "      <td>Mirassou 2010 Riesling (California)</td>\n",
       "      <td>Riesling</td>\n",
       "      <td>Mirassou</td>\n",
       "      <td>4.000000</td>\n",
       "    </tr>\n",
       "  </tbody>\n",
       "</table>\n",
       "</div>"
      ],
      "text/plain": [
       "    index country  \\\n",
       "0  94597   US       \n",
       "1  121851  US       \n",
       "2  23920   US       \n",
       "3  83840   US       \n",
       "4  21841   US       \n",
       "5  123451  US       \n",
       "6  113382  US       \n",
       "7  108278  US       \n",
       "8  30141   US       \n",
       "9  48356   US       \n",
       "\n",
       "                                                                                              description  \\\n",
       "0  This has creamy flavors of vanilla, honey, lime and orange.                                              \n",
       "1  You can technically call this a table wine, but it's really sweet, with orange and honey flavors.        \n",
       "2  A simple wine, it tastes overoaked and thin in oranges and apricots, with brisk acidity.                 \n",
       "3  A soft, simple wine, with cherry cough medicine flavors.                                                 \n",
       "4  Watery and sweet, with apricot and orange jam flavors.                                                   \n",
       "5  As sweet as a dessert wine, with simple pineapple jam flavors.                                           \n",
       "6  Seemingly sweet and simple, this has orange and butterscotch candy flavors.                              \n",
       "7  Sweet and simple, with jammy raspberry and bubblegum flavors.                                            \n",
       "8  This is a rewarding wine, with flavors of orange and pineapple. It finishes with a honeyed minerality.   \n",
       "9  So sweet, it's basically a dessert wine, with simple, sugary flavors of oranges, apricots and vanilla.   \n",
       "\n",
       "  designation  points  price    province  \\\n",
       "0  NaN         82      10.0   California   \n",
       "1  NaN         84      10.0   California   \n",
       "2  NaN         82      22.0   California   \n",
       "3  NaN         81      10.0   California   \n",
       "4  NaN         80      11.0   California   \n",
       "5  NaN         82      9.0    California   \n",
       "6  NaN         82      10.0   California   \n",
       "7  NaN         82      7.0    California   \n",
       "8  NaN         87      17.0   California   \n",
       "9  NaN         82      12.0   California   \n",
       "\n",
       "                                        title     variety        winery  \\\n",
       "0  Bogle 2011 Chardonnay (California)          Chardonnay  Bogle          \n",
       "1  Discoveries 2010 Moscato (California)       Moscato     Discoveries    \n",
       "2  Jacella 2011 Chardonnay (Carneros)          Chardonnay  Jacella        \n",
       "3  Discoveries 2009 Merlot (California)        Merlot      Discoveries    \n",
       "4  Kitchen Sink NV Chardonnay (California)     Chardonnay  Kitchen Sink   \n",
       "5  Surf Point 2010 Chardonnay (California)     Chardonnay  Surf Point     \n",
       "6  Lost Angel 2010 Chardonnay (California)     Chardonnay  Lost Angel     \n",
       "7  Barefoot NV Shiraz (California)             Shiraz      Barefoot       \n",
       "8  Wild Horse 2010 Chardonnay (Central Coast)  Chardonnay  Wild Horse     \n",
       "9  Mirassou 2010 Riesling (California)         Riesling    Mirassou       \n",
       "\n",
       "   distance  \n",
       "0  3.741657  \n",
       "1  3.872983  \n",
       "2  3.872983  \n",
       "3  3.872983  \n",
       "4  3.872983  \n",
       "5  4.000000  \n",
       "6  4.000000  \n",
       "7  4.000000  \n",
       "8  4.000000  \n",
       "9  4.000000  "
      ]
     },
     "execution_count": 35,
     "metadata": {},
     "output_type": "execute_result"
    }
   ],
   "source": [
    "# Example of recommendation using KNN based on BOW\n",
    "knnrecommender = KNNrecommender(vectorizer=cvec, n_neighbors=10, p=2)\n",
    "\n",
    "query = \"California orange wine\"\n",
    "knnrecommender.KNNrecommend(query=query, database=df, N=10)"
   ]
  },
  {
   "cell_type": "markdown",
   "metadata": {},
   "source": [
    "#### Recommendation using KNN based on TFIDF matrices"
   ]
  },
  {
   "cell_type": "code",
   "execution_count": 36,
   "metadata": {},
   "outputs": [
    {
     "name": "stdout",
     "output_type": "stream",
     "text": [
      "Query : California orange wine\n"
     ]
    },
    {
     "data": {
      "text/html": [
       "<div>\n",
       "<style scoped>\n",
       "    .dataframe tbody tr th:only-of-type {\n",
       "        vertical-align: middle;\n",
       "    }\n",
       "\n",
       "    .dataframe tbody tr th {\n",
       "        vertical-align: top;\n",
       "    }\n",
       "\n",
       "    .dataframe thead th {\n",
       "        text-align: right;\n",
       "    }\n",
       "</style>\n",
       "<table border=\"1\" class=\"dataframe\">\n",
       "  <thead>\n",
       "    <tr style=\"text-align: right;\">\n",
       "      <th></th>\n",
       "      <th>index</th>\n",
       "      <th>country</th>\n",
       "      <th>description</th>\n",
       "      <th>designation</th>\n",
       "      <th>points</th>\n",
       "      <th>price</th>\n",
       "      <th>province</th>\n",
       "      <th>title</th>\n",
       "      <th>variety</th>\n",
       "      <th>winery</th>\n",
       "      <th>distance</th>\n",
       "    </tr>\n",
       "  </thead>\n",
       "  <tbody>\n",
       "    <tr>\n",
       "      <th>0</th>\n",
       "      <td>89663</td>\n",
       "      <td>US</td>\n",
       "      <td>This is an interesting rosé, with a light burnt-orange hue and an orange theme throughout. It's evident from wild, sweet orange on the nose to clementine, orange blossom and orange candy flavors on the palate. There are other aromas such as cherry cough drops and raspberries, while the palate is fruit forward, with flabby acidity.</td>\n",
       "      <td>White Norton</td>\n",
       "      <td>84</td>\n",
       "      <td>22.0</td>\n",
       "      <td>Virginia</td>\n",
       "      <td>New Kent 2014 White Norton Rosé (Virginia)</td>\n",
       "      <td>Rosé</td>\n",
       "      <td>New Kent</td>\n",
       "      <td>1.069773</td>\n",
       "    </tr>\n",
       "    <tr>\n",
       "      <th>1</th>\n",
       "      <td>17437</td>\n",
       "      <td>US</td>\n",
       "      <td>With residual sugar of 15.2%, this is a very sweet wine, but crisp acidity gives it complete balance. The flavors are direct and appealing and, as the variety suggests, powerful in tangerines and honeyed oranges.</td>\n",
       "      <td>Late Harvest</td>\n",
       "      <td>87</td>\n",
       "      <td>15.0</td>\n",
       "      <td>California</td>\n",
       "      <td>Fiore d'Arancio NV Late Harvest Orange Muscat (California)</td>\n",
       "      <td>Orange Muscat</td>\n",
       "      <td>Fiore d'Arancio</td>\n",
       "      <td>1.086300</td>\n",
       "    </tr>\n",
       "    <tr>\n",
       "      <th>2</th>\n",
       "      <td>67693</td>\n",
       "      <td>US</td>\n",
       "      <td>With a notable orange tinge, the aromas offer notes of flowers and orange peel, seeming to show a touch of oxygen exposure. It drinks off dry, with abundant orange-rind and smoke flavors.</td>\n",
       "      <td>Lé Orange Vintner's Select</td>\n",
       "      <td>85</td>\n",
       "      <td>20.0</td>\n",
       "      <td>Washington</td>\n",
       "      <td>Almquist 2014 Lé Orange Vintner's Select Pinot Gris (Washington)</td>\n",
       "      <td>Pinot Gris</td>\n",
       "      <td>Almquist</td>\n",
       "      <td>1.091175</td>\n",
       "    </tr>\n",
       "    <tr>\n",
       "      <th>3</th>\n",
       "      <td>75993</td>\n",
       "      <td>US</td>\n",
       "      <td>This is a pretty wine in terms of floral aromatics, resplendent shocks of orange blossom and orange peel inviting in their exotic freshness. Lime and orange follow on the palate, which is bristling in acidity, the finish light and bright.</td>\n",
       "      <td>Dijon Clones</td>\n",
       "      <td>89</td>\n",
       "      <td>34.0</td>\n",
       "      <td>California</td>\n",
       "      <td>Pine Ridge 2013 Dijon Clones Chardonnay (Carneros-Napa Valley)</td>\n",
       "      <td>Chardonnay</td>\n",
       "      <td>Pine Ridge</td>\n",
       "      <td>1.108733</td>\n",
       "    </tr>\n",
       "    <tr>\n",
       "      <th>4</th>\n",
       "      <td>87233</td>\n",
       "      <td>US</td>\n",
       "      <td>An orange shade of pink, this wine leans toward dried lemon and orange peels with a slight bit of bubble gum and pomegranate on the nose. The flavors are more concentrated than bright, with iodine and dried fruit character, more reminiscent of an orange wine than a pink one.</td>\n",
       "      <td>Rosé of</td>\n",
       "      <td>85</td>\n",
       "      <td>20.0</td>\n",
       "      <td>California</td>\n",
       "      <td>Standing Sun 2013 Rosé of Syrah (Santa Barbara County)</td>\n",
       "      <td>Syrah</td>\n",
       "      <td>Standing Sun</td>\n",
       "      <td>1.110250</td>\n",
       "    </tr>\n",
       "    <tr>\n",
       "      <th>5</th>\n",
       "      <td>114382</td>\n",
       "      <td>US</td>\n",
       "      <td>Beautiful rose petal, orange blossom and honey flavors practically leap out of the glass as this sweet, lightly sparkling and nicely concentrated wine works its charms. It has good acidity to balance all the sugary sweetness, and a low alcohol strength.</td>\n",
       "      <td>NaN</td>\n",
       "      <td>90</td>\n",
       "      <td>14.0</td>\n",
       "      <td>California</td>\n",
       "      <td>Electra 2015 Orange Muscat (California)</td>\n",
       "      <td>Orange Muscat</td>\n",
       "      <td>Electra</td>\n",
       "      <td>1.110307</td>\n",
       "    </tr>\n",
       "    <tr>\n",
       "      <th>6</th>\n",
       "      <td>43699</td>\n",
       "      <td>US</td>\n",
       "      <td>Absolutely delicious, an addictive dessert wine. Brisk in acidity and clean in the mouth, it offers fabulously sweet flavors of oranges, vanilla, honey and buttered toast. Drink it with cheesecake and go to heaven.</td>\n",
       "      <td>Essensia</td>\n",
       "      <td>93</td>\n",
       "      <td>21.0</td>\n",
       "      <td>California</td>\n",
       "      <td>Quady 2010 Essensia Orange Muscat (California)</td>\n",
       "      <td>Orange Muscat</td>\n",
       "      <td>Quady</td>\n",
       "      <td>1.117500</td>\n",
       "    </tr>\n",
       "    <tr>\n",
       "      <th>7</th>\n",
       "      <td>92955</td>\n",
       "      <td>US</td>\n",
       "      <td>Some might characterize this as a dessert wine, but it's actually quite dry, with brisk acidity accompanying orange, peach, honey and vanilla flavors. No oak was involved, leaving the wine fresh and vibrant.</td>\n",
       "      <td>NaN</td>\n",
       "      <td>87</td>\n",
       "      <td>17.0</td>\n",
       "      <td>California</td>\n",
       "      <td>Santa Barbara Winery 2012 Orange Muscat (Santa Barbara County)</td>\n",
       "      <td>Orange Muscat</td>\n",
       "      <td>Santa Barbara Winery</td>\n",
       "      <td>1.118254</td>\n",
       "    </tr>\n",
       "    <tr>\n",
       "      <th>8</th>\n",
       "      <td>92520</td>\n",
       "      <td>US</td>\n",
       "      <td>This sweet and flavorful wine has an orange-amber color and one of the most floral, perfumed aromas of any wine from anywhere. It smells like a giant bouquet of roses, jasmine and honeysuckle and tastes similarly, buoyed by apricot and peach flavors and a lively streak in the texture.</td>\n",
       "      <td>Deviation</td>\n",
       "      <td>93</td>\n",
       "      <td>25.0</td>\n",
       "      <td>California</td>\n",
       "      <td>Quady NV Deviation Orange Muscat (California)</td>\n",
       "      <td>Orange Muscat</td>\n",
       "      <td>Quady</td>\n",
       "      <td>1.118517</td>\n",
       "    </tr>\n",
       "    <tr>\n",
       "      <th>9</th>\n",
       "      <td>96959</td>\n",
       "      <td>US</td>\n",
       "      <td>An extremely pungent florality hits the nose on this sweeter bottling, with orange blossoms, strong white flowers and a quinine character. The palate is brightly sweet but far from overly done, with perfumed night jasmine mixing into more orange-blossom elements. Perhaps this wine is an acquired taste, but it's clean and crisp.</td>\n",
       "      <td>Margaret's Vineyard</td>\n",
       "      <td>87</td>\n",
       "      <td>16.0</td>\n",
       "      <td>California</td>\n",
       "      <td>Robert Hall 2014 Margaret's Vineyard Orange Muscat (Paso Robles)</td>\n",
       "      <td>Orange Muscat</td>\n",
       "      <td>Robert Hall</td>\n",
       "      <td>1.122662</td>\n",
       "    </tr>\n",
       "  </tbody>\n",
       "</table>\n",
       "</div>"
      ],
      "text/plain": [
       "    index country  \\\n",
       "0  89663   US       \n",
       "1  17437   US       \n",
       "2  67693   US       \n",
       "3  75993   US       \n",
       "4  87233   US       \n",
       "5  114382  US       \n",
       "6  43699   US       \n",
       "7  92955   US       \n",
       "8  92520   US       \n",
       "9  96959   US       \n",
       "\n",
       "                                                                                                                                                                                                                                                                                                                                    description  \\\n",
       "0  This is an interesting rosé, with a light burnt-orange hue and an orange theme throughout. It's evident from wild, sweet orange on the nose to clementine, orange blossom and orange candy flavors on the palate. There are other aromas such as cherry cough drops and raspberries, while the palate is fruit forward, with flabby acidity.   \n",
       "1  With residual sugar of 15.2%, this is a very sweet wine, but crisp acidity gives it complete balance. The flavors are direct and appealing and, as the variety suggests, powerful in tangerines and honeyed oranges.                                                                                                                           \n",
       "2  With a notable orange tinge, the aromas offer notes of flowers and orange peel, seeming to show a touch of oxygen exposure. It drinks off dry, with abundant orange-rind and smoke flavors.                                                                                                                                                    \n",
       "3  This is a pretty wine in terms of floral aromatics, resplendent shocks of orange blossom and orange peel inviting in their exotic freshness. Lime and orange follow on the palate, which is bristling in acidity, the finish light and bright.                                                                                                 \n",
       "4  An orange shade of pink, this wine leans toward dried lemon and orange peels with a slight bit of bubble gum and pomegranate on the nose. The flavors are more concentrated than bright, with iodine and dried fruit character, more reminiscent of an orange wine than a pink one.                                                            \n",
       "5  Beautiful rose petal, orange blossom and honey flavors practically leap out of the glass as this sweet, lightly sparkling and nicely concentrated wine works its charms. It has good acidity to balance all the sugary sweetness, and a low alcohol strength.                                                                                  \n",
       "6  Absolutely delicious, an addictive dessert wine. Brisk in acidity and clean in the mouth, it offers fabulously sweet flavors of oranges, vanilla, honey and buttered toast. Drink it with cheesecake and go to heaven.                                                                                                                         \n",
       "7  Some might characterize this as a dessert wine, but it's actually quite dry, with brisk acidity accompanying orange, peach, honey and vanilla flavors. No oak was involved, leaving the wine fresh and vibrant.                                                                                                                                \n",
       "8  This sweet and flavorful wine has an orange-amber color and one of the most floral, perfumed aromas of any wine from anywhere. It smells like a giant bouquet of roses, jasmine and honeysuckle and tastes similarly, buoyed by apricot and peach flavors and a lively streak in the texture.                                                  \n",
       "9  An extremely pungent florality hits the nose on this sweeter bottling, with orange blossoms, strong white flowers and a quinine character. The palate is brightly sweet but far from overly done, with perfumed night jasmine mixing into more orange-blossom elements. Perhaps this wine is an acquired taste, but it's clean and crisp.      \n",
       "\n",
       "                  designation  points  price    province  \\\n",
       "0  White Norton                84      22.0   Virginia     \n",
       "1  Late Harvest                87      15.0   California   \n",
       "2  Lé Orange Vintner's Select  85      20.0   Washington   \n",
       "3  Dijon Clones                89      34.0   California   \n",
       "4  Rosé of                     85      20.0   California   \n",
       "5  NaN                         90      14.0   California   \n",
       "6  Essensia                    93      21.0   California   \n",
       "7  NaN                         87      17.0   California   \n",
       "8  Deviation                   93      25.0   California   \n",
       "9  Margaret's Vineyard         87      16.0   California   \n",
       "\n",
       "                                                              title  \\\n",
       "0  New Kent 2014 White Norton Rosé (Virginia)                         \n",
       "1  Fiore d'Arancio NV Late Harvest Orange Muscat (California)         \n",
       "2  Almquist 2014 Lé Orange Vintner's Select Pinot Gris (Washington)   \n",
       "3  Pine Ridge 2013 Dijon Clones Chardonnay (Carneros-Napa Valley)     \n",
       "4  Standing Sun 2013 Rosé of Syrah (Santa Barbara County)             \n",
       "5  Electra 2015 Orange Muscat (California)                            \n",
       "6  Quady 2010 Essensia Orange Muscat (California)                     \n",
       "7  Santa Barbara Winery 2012 Orange Muscat (Santa Barbara County)     \n",
       "8  Quady NV Deviation Orange Muscat (California)                      \n",
       "9  Robert Hall 2014 Margaret's Vineyard Orange Muscat (Paso Robles)   \n",
       "\n",
       "         variety                winery  distance  \n",
       "0  Rosé           New Kent              1.069773  \n",
       "1  Orange Muscat  Fiore d'Arancio       1.086300  \n",
       "2  Pinot Gris     Almquist              1.091175  \n",
       "3  Chardonnay     Pine Ridge            1.108733  \n",
       "4  Syrah          Standing Sun          1.110250  \n",
       "5  Orange Muscat  Electra               1.110307  \n",
       "6  Orange Muscat  Quady                 1.117500  \n",
       "7  Orange Muscat  Santa Barbara Winery  1.118254  \n",
       "8  Orange Muscat  Quady                 1.118517  \n",
       "9  Orange Muscat  Robert Hall           1.122662  "
      ]
     },
     "execution_count": 36,
     "metadata": {},
     "output_type": "execute_result"
    }
   ],
   "source": [
    "# Example of recommendation using KNN based on tfidf\n",
    "knnrecommender = KNNrecommender(vectorizer=tfidfvec,n_neighbors=10)\n",
    "\n",
    "query = \"California orange wine\"\n",
    "knnrecommender.KNNrecommend(query=query, database=df, N=10)"
   ]
  },
  {
   "cell_type": "markdown",
   "metadata": {},
   "source": [
    "#### Recommendation based on cosine sim of BOW matrices"
   ]
  },
  {
   "cell_type": "code",
   "execution_count": 37,
   "metadata": {},
   "outputs": [
    {
     "name": "stdout",
     "output_type": "stream",
     "text": [
      "Query : A lifted lemon-scented nose of peach gives and impression of ease and lightness. The palate, however, lays on generous sweetness to focus on ripe juicy peach notes. There is a huge concentration of flavor and richness, countered by that lemony freshness. This is a big but gentle wine that leaves your mind ringing with peach and lemon and a touch of honeysuckle spice. The medium-sweet finish is long and balanced. Drink 2017–2017.\n"
     ]
    },
    {
     "data": {
      "text/html": [
       "<div>\n",
       "<style scoped>\n",
       "    .dataframe tbody tr th:only-of-type {\n",
       "        vertical-align: middle;\n",
       "    }\n",
       "\n",
       "    .dataframe tbody tr th {\n",
       "        vertical-align: top;\n",
       "    }\n",
       "\n",
       "    .dataframe thead th {\n",
       "        text-align: right;\n",
       "    }\n",
       "</style>\n",
       "<table border=\"1\" class=\"dataframe\">\n",
       "  <thead>\n",
       "    <tr style=\"text-align: right;\">\n",
       "      <th></th>\n",
       "      <th>index</th>\n",
       "      <th>country</th>\n",
       "      <th>description</th>\n",
       "      <th>designation</th>\n",
       "      <th>points</th>\n",
       "      <th>price</th>\n",
       "      <th>province</th>\n",
       "      <th>title</th>\n",
       "      <th>variety</th>\n",
       "      <th>winery</th>\n",
       "      <th>score</th>\n",
       "    </tr>\n",
       "  </thead>\n",
       "  <tbody>\n",
       "    <tr>\n",
       "      <th>0</th>\n",
       "      <td>22355</td>\n",
       "      <td>France</td>\n",
       "      <td>A lifted lemon-scented nose of peach gives and impression of ease and lightness. The palate, however, lays on generous sweetness to focus on ripe juicy peach notes. There is a huge concentration of flavor and richness, countered by that lemony freshness. This is a big but gentle wine that leaves your mind ringing with peach and lemon and a touch of honeysuckle spice. The medium-sweet finish is long and balanced. Drink 2017–2017.</td>\n",
       "      <td>Ehrhart Hengst Grand Cru</td>\n",
       "      <td>94</td>\n",
       "      <td>32.0</td>\n",
       "      <td>Alsace</td>\n",
       "      <td>Domaine Saint-Rémy 2015 Ehrhart Hengst Grand Cru Gewurztraminer (Alsace)</td>\n",
       "      <td>Gewürztraminer</td>\n",
       "      <td>Domaine Saint-Rémy</td>\n",
       "      <td>0.889757</td>\n",
       "    </tr>\n",
       "    <tr>\n",
       "      <th>1</th>\n",
       "      <td>22356</td>\n",
       "      <td>France</td>\n",
       "      <td>Peach and honeysuckle already have a notion of honeyed sweetness and ripeness on the nose. The palate boosts both fruit and floral notion to the top, where honeysuckle and rose petal notes meeting with peach on the medium-sweet palate. This is full on, joyous, juicy and rich with expressive, exuberant flavor. An underlying concentration almost feeds this with a fiery dynamic force. The finish is medium sweet but comes with a wonderfully redeeming pure lemon streak. This is ready now but will get even better with age. Drink 2017–2037.</td>\n",
       "      <td>Clos Saint-Théobald Rangen Grand Cru</td>\n",
       "      <td>94</td>\n",
       "      <td>49.0</td>\n",
       "      <td>Alsace</td>\n",
       "      <td>Domaine Schoffit 2015 Clos Saint-Théobald Rangen Grand Cru Gewurztraminer (Alsace)</td>\n",
       "      <td>Gewürztraminer</td>\n",
       "      <td>Domaine Schoffit</td>\n",
       "      <td>0.442767</td>\n",
       "    </tr>\n",
       "    <tr>\n",
       "      <th>2</th>\n",
       "      <td>100191</td>\n",
       "      <td>France</td>\n",
       "      <td>There is an earthy touch to the almost overripe peach notes on the nose. The palate adds both sweetness and a subtle welcome hint of phenolic bitterness to the peachy fruit. Bright lemon freshness cuts through the medium-sweet palate to provide a fresh, almost lip-smacking finish. This wine is full of ripe expressive fruit flavors, giving equal billing to lemon and peach.</td>\n",
       "      <td>Mambourg Grand Cru</td>\n",
       "      <td>92</td>\n",
       "      <td>40.0</td>\n",
       "      <td>Alsace</td>\n",
       "      <td>Jean-Marc Bernhard 2015 Mambourg Grand Cru Gewurztraminer (Alsace)</td>\n",
       "      <td>Gewürztraminer</td>\n",
       "      <td>Jean-Marc Bernhard</td>\n",
       "      <td>0.430528</td>\n",
       "    </tr>\n",
       "    <tr>\n",
       "      <th>3</th>\n",
       "      <td>15658</td>\n",
       "      <td>France</td>\n",
       "      <td>A very lifted touch of fir honey hits the nose first before ripe peach with the merest touch of vanilla follow. The palate is incisive and concentrated. Alcoholic heat fires up the mellow, rich and rounded palate that brims with peachy fruit and flavor while zesty lemon oil hints illuminate and brighten the richness. This seems to have only just started on its trajectory. It is ready to drink but it will evolve much further, becoming ever more itself. The finish is just off dry and very long with lemon zest and peach. Drink 2017–2037.</td>\n",
       "      <td>Grossi Laüe</td>\n",
       "      <td>94</td>\n",
       "      <td>75.0</td>\n",
       "      <td>Alsace</td>\n",
       "      <td>Hugel 2011 Grossi Laüe Gewurztraminer (Alsace)</td>\n",
       "      <td>Gewürztraminer</td>\n",
       "      <td>Hugel</td>\n",
       "      <td>0.412948</td>\n",
       "    </tr>\n",
       "    <tr>\n",
       "      <th>4</th>\n",
       "      <td>16733</td>\n",
       "      <td>France</td>\n",
       "      <td>A touch of narcissus precedes the full-fruited notes of peach on the nose. The palate has the same generous peach but also a slightly bitter tangy edge that gives structure to the rich wine. This is intense, rich and medium sweet, with a lasting rich finish.</td>\n",
       "      <td>Cuvée Mégane</td>\n",
       "      <td>90</td>\n",
       "      <td>30.0</td>\n",
       "      <td>Alsace</td>\n",
       "      <td>Domaine G. Metz 2014 Cuvée Mégane Gewurztraminer (Alsace)</td>\n",
       "      <td>Gewürztraminer</td>\n",
       "      <td>Domaine G. Metz</td>\n",
       "      <td>0.390583</td>\n",
       "    </tr>\n",
       "  </tbody>\n",
       "</table>\n",
       "</div>"
      ],
      "text/plain": [
       "    index country  \\\n",
       "0  22355   France   \n",
       "1  22356   France   \n",
       "2  100191  France   \n",
       "3  15658   France   \n",
       "4  16733   France   \n",
       "\n",
       "                                                                                                                                                                                                                                                                                                                                                                                                                                                                                                                                                    description  \\\n",
       "0  A lifted lemon-scented nose of peach gives and impression of ease and lightness. The palate, however, lays on generous sweetness to focus on ripe juicy peach notes. There is a huge concentration of flavor and richness, countered by that lemony freshness. This is a big but gentle wine that leaves your mind ringing with peach and lemon and a touch of honeysuckle spice. The medium-sweet finish is long and balanced. Drink 2017–2017.                                                                                                               \n",
       "1  Peach and honeysuckle already have a notion of honeyed sweetness and ripeness on the nose. The palate boosts both fruit and floral notion to the top, where honeysuckle and rose petal notes meeting with peach on the medium-sweet palate. This is full on, joyous, juicy and rich with expressive, exuberant flavor. An underlying concentration almost feeds this with a fiery dynamic force. The finish is medium sweet but comes with a wonderfully redeeming pure lemon streak. This is ready now but will get even better with age. Drink 2017–2037.    \n",
       "2  There is an earthy touch to the almost overripe peach notes on the nose. The palate adds both sweetness and a subtle welcome hint of phenolic bitterness to the peachy fruit. Bright lemon freshness cuts through the medium-sweet palate to provide a fresh, almost lip-smacking finish. This wine is full of ripe expressive fruit flavors, giving equal billing to lemon and peach.                                                                                                                                                                         \n",
       "3  A very lifted touch of fir honey hits the nose first before ripe peach with the merest touch of vanilla follow. The palate is incisive and concentrated. Alcoholic heat fires up the mellow, rich and rounded palate that brims with peachy fruit and flavor while zesty lemon oil hints illuminate and brighten the richness. This seems to have only just started on its trajectory. It is ready to drink but it will evolve much further, becoming ever more itself. The finish is just off dry and very long with lemon zest and peach. Drink 2017–2037.   \n",
       "4  A touch of narcissus precedes the full-fruited notes of peach on the nose. The palate has the same generous peach but also a slightly bitter tangy edge that gives structure to the rich wine. This is intense, rich and medium sweet, with a lasting rich finish.                                                                                                                                                                                                                                                                                             \n",
       "\n",
       "                            designation  points  price province  \\\n",
       "0  Ehrhart Hengst Grand Cru              94      32.0   Alsace    \n",
       "1  Clos Saint-Théobald Rangen Grand Cru  94      49.0   Alsace    \n",
       "2  Mambourg Grand Cru                    92      40.0   Alsace    \n",
       "3  Grossi Laüe                           94      75.0   Alsace    \n",
       "4  Cuvée Mégane                          90      30.0   Alsace    \n",
       "\n",
       "                                                                                title  \\\n",
       "0  Domaine Saint-Rémy 2015 Ehrhart Hengst Grand Cru Gewurztraminer (Alsace)             \n",
       "1  Domaine Schoffit 2015 Clos Saint-Théobald Rangen Grand Cru Gewurztraminer (Alsace)   \n",
       "2  Jean-Marc Bernhard 2015 Mambourg Grand Cru Gewurztraminer (Alsace)                   \n",
       "3  Hugel 2011 Grossi Laüe Gewurztraminer (Alsace)                                       \n",
       "4  Domaine G. Metz 2014 Cuvée Mégane Gewurztraminer (Alsace)                            \n",
       "\n",
       "          variety              winery     score  \n",
       "0  Gewürztraminer  Domaine Saint-Rémy  0.889757  \n",
       "1  Gewürztraminer  Domaine Schoffit    0.442767  \n",
       "2  Gewürztraminer  Jean-Marc Bernhard  0.430528  \n",
       "3  Gewürztraminer  Hugel               0.412948  \n",
       "4  Gewürztraminer  Domaine G. Metz     0.390583  "
      ]
     },
     "execution_count": 37,
     "metadata": {},
     "output_type": "execute_result"
    }
   ],
   "source": [
    "# Example of recommendation using BOW\n",
    "#Randomly choose a query description \n",
    "query = df[\"description\"].iloc[random.randint(0,df.shape[0])]\n",
    "\n",
    "recommender = Recommender(database = df, vectorizer = cvec)\n",
    "recommender.recommend(query = query , N=5)"
   ]
  },
  {
   "cell_type": "markdown",
   "metadata": {},
   "source": [
    "#### Recommendation based on cosine sim of TFIDF matrices"
   ]
  },
  {
   "cell_type": "code",
   "execution_count": 38,
   "metadata": {},
   "outputs": [
    {
     "name": "stdout",
     "output_type": "stream",
     "text": [
      "Query : Porto Portugal caramel\n"
     ]
    },
    {
     "data": {
      "text/html": [
       "<div>\n",
       "<style scoped>\n",
       "    .dataframe tbody tr th:only-of-type {\n",
       "        vertical-align: middle;\n",
       "    }\n",
       "\n",
       "    .dataframe tbody tr th {\n",
       "        vertical-align: top;\n",
       "    }\n",
       "\n",
       "    .dataframe thead th {\n",
       "        text-align: right;\n",
       "    }\n",
       "</style>\n",
       "<table border=\"1\" class=\"dataframe\">\n",
       "  <thead>\n",
       "    <tr style=\"text-align: right;\">\n",
       "      <th></th>\n",
       "      <th>index</th>\n",
       "      <th>country</th>\n",
       "      <th>description</th>\n",
       "      <th>designation</th>\n",
       "      <th>points</th>\n",
       "      <th>price</th>\n",
       "      <th>province</th>\n",
       "      <th>title</th>\n",
       "      <th>variety</th>\n",
       "      <th>winery</th>\n",
       "      <th>score</th>\n",
       "    </tr>\n",
       "  </thead>\n",
       "  <tbody>\n",
       "    <tr>\n",
       "      <th>0</th>\n",
       "      <td>96838</td>\n",
       "      <td>Portugal</td>\n",
       "      <td>Light in color and soft, this is a caramel-flavored wine that is all fruit. It is open and generous, with just a light tang of acidity at the end.</td>\n",
       "      <td>Réccua Reserva Especial</td>\n",
       "      <td>85</td>\n",
       "      <td>14.0</td>\n",
       "      <td>Port</td>\n",
       "      <td>Porto Reccua Vinhos NV Réccua Reserva Especial  (Port)</td>\n",
       "      <td>Port</td>\n",
       "      <td>Porto Reccua Vinhos</td>\n",
       "      <td>0.384806</td>\n",
       "    </tr>\n",
       "    <tr>\n",
       "      <th>1</th>\n",
       "      <td>54226</td>\n",
       "      <td>Portugal</td>\n",
       "      <td>Get past the meaty aromas and the wine is smooth, caramel and spice flavored. The wood flavors are prominent suggesting the wine has been aged well. At the end, berry fruits and acidity come through.</td>\n",
       "      <td>Porto Tawny Reserve</td>\n",
       "      <td>86</td>\n",
       "      <td>14.0</td>\n",
       "      <td>Port</td>\n",
       "      <td>Borges NV Porto Tawny Reserve  (Port)</td>\n",
       "      <td>Port</td>\n",
       "      <td>Borges</td>\n",
       "      <td>0.377161</td>\n",
       "    </tr>\n",
       "    <tr>\n",
       "      <th>2</th>\n",
       "      <td>33442</td>\n",
       "      <td>Greece</td>\n",
       "      <td>Butterscotch, honey and spice aromas lead this white from Porto Carras. The wine has a slightly heavy feel with vanilla and spice overtones leasing. Overall though, a pretty wine with a serious character.</td>\n",
       "      <td>NaN</td>\n",
       "      <td>88</td>\n",
       "      <td>25.0</td>\n",
       "      <td>Sithonia</td>\n",
       "      <td>Porto Carras 2014 Malagousia (Sithonia)</td>\n",
       "      <td>Malagousia</td>\n",
       "      <td>Porto Carras</td>\n",
       "      <td>0.323541</td>\n",
       "    </tr>\n",
       "    <tr>\n",
       "      <th>3</th>\n",
       "      <td>62570</td>\n",
       "      <td>Portugal</td>\n",
       "      <td>Medicinal, herbal wine, with attractive white fruit aromas. The palate is rich and soft, with fresh honey and sweet fruits. Definitely sweet, it is still balanced with the fruits and the spirit underlay.</td>\n",
       "      <td>Porto Branco</td>\n",
       "      <td>88</td>\n",
       "      <td>NaN</td>\n",
       "      <td>Port</td>\n",
       "      <td>Ferreira NV Porto Branco  (Port)</td>\n",
       "      <td>Port</td>\n",
       "      <td>Ferreira</td>\n",
       "      <td>0.298943</td>\n",
       "    </tr>\n",
       "    <tr>\n",
       "      <th>4</th>\n",
       "      <td>51901</td>\n",
       "      <td>Portugal</td>\n",
       "      <td>This is a smooth, toffee and caramel-flavored wine. It has a comfortable maturity, with acidity coming from hints of fruitiness, and sweet sultanas acting as a foil. Like any aged tawny, this magnificent wine is ready to drink.</td>\n",
       "      <td>Porto Tawny 40 Years Old</td>\n",
       "      <td>93</td>\n",
       "      <td>NaN</td>\n",
       "      <td>Port</td>\n",
       "      <td>Senhora do Convento NV Porto Tawny 40 Years Old  (Port)</td>\n",
       "      <td>Port</td>\n",
       "      <td>Senhora do Convento</td>\n",
       "      <td>0.297913</td>\n",
       "    </tr>\n",
       "  </tbody>\n",
       "</table>\n",
       "</div>"
      ],
      "text/plain": [
       "   index   country  \\\n",
       "0  96838  Portugal   \n",
       "1  54226  Portugal   \n",
       "2  33442  Greece     \n",
       "3  62570  Portugal   \n",
       "4  51901  Portugal   \n",
       "\n",
       "                                                                                                                                                                                                                           description  \\\n",
       "0  Light in color and soft, this is a caramel-flavored wine that is all fruit. It is open and generous, with just a light tang of acidity at the end.                                                                                    \n",
       "1  Get past the meaty aromas and the wine is smooth, caramel and spice flavored. The wood flavors are prominent suggesting the wine has been aged well. At the end, berry fruits and acidity come through.                               \n",
       "2  Butterscotch, honey and spice aromas lead this white from Porto Carras. The wine has a slightly heavy feel with vanilla and spice overtones leasing. Overall though, a pretty wine with a serious character.                          \n",
       "3  Medicinal, herbal wine, with attractive white fruit aromas. The palate is rich and soft, with fresh honey and sweet fruits. Definitely sweet, it is still balanced with the fruits and the spirit underlay.                           \n",
       "4  This is a smooth, toffee and caramel-flavored wine. It has a comfortable maturity, with acidity coming from hints of fruitiness, and sweet sultanas acting as a foil. Like any aged tawny, this magnificent wine is ready to drink.   \n",
       "\n",
       "                designation  points  price  province  \\\n",
       "0  Réccua Reserva Especial   85      14.0   Port       \n",
       "1  Porto Tawny Reserve       86      14.0   Port       \n",
       "2  NaN                       88      25.0   Sithonia   \n",
       "3  Porto Branco              88     NaN     Port       \n",
       "4  Porto Tawny 40 Years Old  93     NaN     Port       \n",
       "\n",
       "                                                     title     variety  \\\n",
       "0  Porto Reccua Vinhos NV Réccua Reserva Especial  (Port)   Port         \n",
       "1  Borges NV Porto Tawny Reserve  (Port)                    Port         \n",
       "2  Porto Carras 2014 Malagousia (Sithonia)                  Malagousia   \n",
       "3  Ferreira NV Porto Branco  (Port)                         Port         \n",
       "4  Senhora do Convento NV Porto Tawny 40 Years Old  (Port)  Port         \n",
       "\n",
       "                winery     score  \n",
       "0  Porto Reccua Vinhos  0.384806  \n",
       "1  Borges               0.377161  \n",
       "2  Porto Carras         0.323541  \n",
       "3  Ferreira             0.298943  \n",
       "4  Senhora do Convento  0.297913  "
      ]
     },
     "execution_count": 38,
     "metadata": {},
     "output_type": "execute_result"
    }
   ],
   "source": [
    "# Example of recommendation using TfIDF\n",
    "query = \"Porto Portugal caramel\"\n",
    "#query = df[\"description\"].iloc[random.randint(0,df.shape[0])]\n",
    "\n",
    "recommender = Recommender(database = df, vectorizer = tfidfvec)\n",
    "recommender.recommend(query = query , N=5)"
   ]
  },
  {
   "cell_type": "markdown",
   "metadata": {},
   "source": [
    "#### Recommendation based on cosine sim of Word embeddings using spacy"
   ]
  },
  {
   "cell_type": "code",
   "execution_count": 39,
   "metadata": {},
   "outputs": [
    {
     "name": "stdout",
     "output_type": "stream",
     "text": [
      "Query : Bordeaux France red wine fruit\n"
     ]
    },
    {
     "data": {
      "text/html": [
       "<div>\n",
       "<style scoped>\n",
       "    .dataframe tbody tr th:only-of-type {\n",
       "        vertical-align: middle;\n",
       "    }\n",
       "\n",
       "    .dataframe tbody tr th {\n",
       "        vertical-align: top;\n",
       "    }\n",
       "\n",
       "    .dataframe thead th {\n",
       "        text-align: right;\n",
       "    }\n",
       "</style>\n",
       "<table border=\"1\" class=\"dataframe\">\n",
       "  <thead>\n",
       "    <tr style=\"text-align: right;\">\n",
       "      <th></th>\n",
       "      <th>index</th>\n",
       "      <th>country</th>\n",
       "      <th>description</th>\n",
       "      <th>designation</th>\n",
       "      <th>points</th>\n",
       "      <th>price</th>\n",
       "      <th>province</th>\n",
       "      <th>title</th>\n",
       "      <th>variety</th>\n",
       "      <th>winery</th>\n",
       "      <th>score</th>\n",
       "    </tr>\n",
       "  </thead>\n",
       "  <tbody>\n",
       "    <tr>\n",
       "      <th>0</th>\n",
       "      <td>30074</td>\n",
       "      <td>France</td>\n",
       "      <td>Fresh and fruity with creamy green and white fruits, this is a soft, ready to drink Chardonnay. Attractively fruity, the acidity finely cuts through the wine.</td>\n",
       "      <td>Bourricot</td>\n",
       "      <td>85</td>\n",
       "      <td>11.0</td>\n",
       "      <td>France Other</td>\n",
       "      <td>L. Tramier &amp; Fils 2011 Bourricot Chardonnay (Vin de France)</td>\n",
       "      <td>Chardonnay</td>\n",
       "      <td>L. Tramier &amp; Fils</td>\n",
       "      <td>0.928673</td>\n",
       "    </tr>\n",
       "    <tr>\n",
       "      <th>1</th>\n",
       "      <td>69912</td>\n",
       "      <td>France</td>\n",
       "      <td>This wine is way too light, too fresh and without much in the way of structure. Green fruit and acidity are dominant with just hints of red fruits.</td>\n",
       "      <td>Demoiselle Bleue</td>\n",
       "      <td>83</td>\n",
       "      <td>15.0</td>\n",
       "      <td>Loire Valley</td>\n",
       "      <td>Alliance Loire 2014 Demoiselle Bleue Cabernet Franc (Bourgueil)</td>\n",
       "      <td>Cabernet Franc</td>\n",
       "      <td>Alliance Loire</td>\n",
       "      <td>0.925676</td>\n",
       "    </tr>\n",
       "    <tr>\n",
       "      <th>2</th>\n",
       "      <td>105028</td>\n",
       "      <td>France</td>\n",
       "      <td>Perfumed wine, from a blend of Tannat and Cabernet Franc. Here is a powerful expression of intense terroir. Very concentrated and dense, with the tannins just beginning to soften, the wine is packed with black ripe fruits, solid and chunky.</td>\n",
       "      <td>NaN</td>\n",
       "      <td>92</td>\n",
       "      <td>14.0</td>\n",
       "      <td>Southwest France</td>\n",
       "      <td>Château Peyros 2006 Tannat-Cabernet Franc (Madiran)</td>\n",
       "      <td>Tannat-Cabernet Franc</td>\n",
       "      <td>Château Peyros</td>\n",
       "      <td>0.920852</td>\n",
       "    </tr>\n",
       "    <tr>\n",
       "      <th>3</th>\n",
       "      <td>20612</td>\n",
       "      <td>France</td>\n",
       "      <td>This oddly named Cabernet Sauvignon is fine. It has light tannins, a juicy, stalky character, upfront black currant fruit and balanced acidity. Drink now.</td>\n",
       "      <td>Romantic</td>\n",
       "      <td>87</td>\n",
       "      <td>10.0</td>\n",
       "      <td>France Other</td>\n",
       "      <td>L. Tramier &amp; Fils 2015 Romantic Cabernet Sauvignon (Vin de France)</td>\n",
       "      <td>Cabernet Sauvignon</td>\n",
       "      <td>L. Tramier &amp; Fils</td>\n",
       "      <td>0.919978</td>\n",
       "    </tr>\n",
       "    <tr>\n",
       "      <th>4</th>\n",
       "      <td>59640</td>\n",
       "      <td>France</td>\n",
       "      <td>A fruity blend of Tannat, Syrah and Cabernet Franc that has berry fruits, a stalky texture and touches of wood spice. It's an easy, juicy wine, made fresh and ripe to be drunk now.</td>\n",
       "      <td>Aramis</td>\n",
       "      <td>85</td>\n",
       "      <td>10.0</td>\n",
       "      <td>France Other</td>\n",
       "      <td>Château d'Aydie 2013 Aramis Red (Vin de France)</td>\n",
       "      <td>Red Blend</td>\n",
       "      <td>Château d'Aydie</td>\n",
       "      <td>0.915704</td>\n",
       "    </tr>\n",
       "  </tbody>\n",
       "</table>\n",
       "</div>"
      ],
      "text/plain": [
       "    index country  \\\n",
       "0  30074   France   \n",
       "1  69912   France   \n",
       "2  105028  France   \n",
       "3  20612   France   \n",
       "4  59640   France   \n",
       "\n",
       "                                                                                                                                                                                                                                        description  \\\n",
       "0  Fresh and fruity with creamy green and white fruits, this is a soft, ready to drink Chardonnay. Attractively fruity, the acidity finely cuts through the wine.                                                                                     \n",
       "1  This wine is way too light, too fresh and without much in the way of structure. Green fruit and acidity are dominant with just hints of red fruits.                                                                                                \n",
       "2  Perfumed wine, from a blend of Tannat and Cabernet Franc. Here is a powerful expression of intense terroir. Very concentrated and dense, with the tannins just beginning to soften, the wine is packed with black ripe fruits, solid and chunky.   \n",
       "3  This oddly named Cabernet Sauvignon is fine. It has light tannins, a juicy, stalky character, upfront black currant fruit and balanced acidity. Drink now.                                                                                         \n",
       "4  A fruity blend of Tannat, Syrah and Cabernet Franc that has berry fruits, a stalky texture and touches of wood spice. It's an easy, juicy wine, made fresh and ripe to be drunk now.                                                               \n",
       "\n",
       "        designation  points  price          province  \\\n",
       "0  Bourricot         85      11.0   France Other       \n",
       "1  Demoiselle Bleue  83      15.0   Loire Valley       \n",
       "2  NaN               92      14.0   Southwest France   \n",
       "3  Romantic          87      10.0   France Other       \n",
       "4  Aramis            85      10.0   France Other       \n",
       "\n",
       "                                                                title  \\\n",
       "0  L. Tramier & Fils 2011 Bourricot Chardonnay (Vin de France)          \n",
       "1  Alliance Loire 2014 Demoiselle Bleue Cabernet Franc (Bourgueil)      \n",
       "2  Château Peyros 2006 Tannat-Cabernet Franc (Madiran)                  \n",
       "3  L. Tramier & Fils 2015 Romantic Cabernet Sauvignon (Vin de France)   \n",
       "4  Château d'Aydie 2013 Aramis Red (Vin de France)                      \n",
       "\n",
       "                 variety             winery     score  \n",
       "0  Chardonnay             L. Tramier & Fils  0.928673  \n",
       "1  Cabernet Franc         Alliance Loire     0.925676  \n",
       "2  Tannat-Cabernet Franc  Château Peyros     0.920852  \n",
       "3  Cabernet Sauvignon     L. Tramier & Fils  0.919978  \n",
       "4  Red Blend              Château d'Aydie    0.915704  "
      ]
     },
     "execution_count": 39,
     "metadata": {},
     "output_type": "execute_result"
    }
   ],
   "source": [
    "# Example of recommendation with spacy \n",
    "query = \"Bordeaux France red wine fruit\"\n",
    "#query = df[\"description\"].iloc[random.randint(0,df.shape[0])]\n",
    "\n",
    "recommender = Recommender(database = df, use_spacy=True)\n",
    "recommender.recommend(query = query , N=5)"
   ]
  },
  {
   "cell_type": "markdown",
   "metadata": {},
   "source": [
    "# Improvements"
   ]
  },
  {
   "cell_type": "markdown",
   "metadata": {},
   "source": [
    "Even if these models seem to work pretty well, there is still room for improvements.\n",
    "For feature extraction we used here simple models such as Bag of words (BOW) and Tf-IDF.\n",
    "But these models have drawbacks such as the lack of word contextual understanding.\n",
    "\n",
    "    - In order to take into account the context of words, we could tune our BOW and TF-IDF vectorizer using Bigrams and Trigrams (use ngram_range=(1,3) parameter). This will produce a lot of different combinaison of words so pay attention to the ram consumption.\n",
    "    \n",
    "    - Hybrid recommendation system models are very powerfull. It would be nice to take into account both textual informations and user's preferences using the columns points and tester_name and build an hybrid recommendation system. \n",
    "    \n",
    "    - Recommendation quality results relies also on the query quality. We know that in real life there is frequently misspelling in query searchs. It would be secure to correct spelling mistakes in the query with a simple and fast algorithm based on levenshtein distance or word embeddings distances for instance (Chardonay -> Chardonnay).\n",
    "    \n",
    "    - Since descriptions contains some words in other languages, we could test multilingual pre-trained word embedding models using multilanguage Google's Word2Vec (CBOW or Skip gram) models ,GloVe (as we did with Spacy but for english version)or Facebook's FastText words embeddings vectors.\n",
    "    \n",
    "    - A better improvement, i think, would be to train our own words embeddings vectors using words founds in these corpora. This will allow us to get a more relevant meaning of each word vector due to their context (i.e words 'dominant','acidity' and 'spicy' would be closer than using words embeddings vectors trained on a general corpora). We can do this using Continuous Bag of word or Skip Grams models. Gensim has a great API to dot this. We can also build and train them from scratch using Keras and tensorflow if we want more control. \n",
    "    \n",
    "    - Clustering could also improve the quality of the recommendation by incorporating variety and diversity, if we recommand K similar, but representative, types of wines based on the clustering results. Algorithms like K-means or DBSCAN are perfect for such tasks. \n",
    "    \n",
    "    - We can treat some feature separately since they are very discriminative. Such as the wine color. \n",
    "    \n",
    "    - Proper nouns should remains attached example (\"Petit Bourgeois\" -> 'Petit_Bourgeois', since Petit and Bourgeois separately does not make sense. Doing Ngrams (bigrams for instance) allows us to take this into account.\n",
    "    \n",
    "    - Instead of averaging words's word embedding vectors in a sentence (like Spacy does) we could have used semantic similarity using Doc2Vec models (ParagraphVector Distrubuted Memory or ParagraphVector Distrubuted Bag of Words) which outperform simple word2vec averaging models. Gensim package has a good API to perform such tasks or build it from scratch using keras. Requires time, space memory and GPU bandwith for training. \n",
    "    \n",
    "    - Usage of sentence embedding encoders based on transformers networks. Since 2018 it's the transformers revolution in NLP. These models use attention mechanism which improve largely the understanding of the sementic of a sentence. Google has developed BERT model and Universal Sentence Encoder (USE), both of them are based on transformers networks. We could have used USE to get sentences embedding vectors of our query text and generate wine recommendations based on the semantic similarity between wine descriptions and the query. Same as with BERT embeddings vectors.\n",
    "    \n",
    "    - A last but not least improvement could be to use Text summarization models such as TextRank (extractive) , BERT or Pointer Generator (best and abstractive) in order to do feature engineering. These models would allow us to generate a small summary of each description, that can fed our BOW/TfIFD models. I would recommand abstractive summaries technique since they'll add new unseen words. I consider this improvement as experimental it's clearly not a must have.\n",
    "    "
   ]
  },
  {
   "cell_type": "markdown",
   "metadata": {},
   "source": [
    "# Bonus recommender using Universal Sentence Encoder\n",
    "**(Run with Tensorflow-gpu >= 1.15.0), requires a huge amount of RAM memory**"
   ]
  },
  {
   "cell_type": "code",
   "execution_count": null,
   "metadata": {},
   "outputs": [],
   "source": [
    "import tensorflow as tf\n",
    "import tensorflow_hub as hub\n",
    "from keras import backend as K"
   ]
  },
  {
   "cell_type": "code",
   "execution_count": null,
   "metadata": {},
   "outputs": [],
   "source": [
    "module_url = \"https://tfhub.dev/google/universal-sentence-encoder-large/3\""
   ]
  },
  {
   "cell_type": "code",
   "execution_count": null,
   "metadata": {},
   "outputs": [],
   "source": [
    "def embed_init():\n",
    "    with tf.Graph().as_default():\n",
    "        text_input = tf.compat.v1.placeholder(dtype = tf.string, shape=[None])\n",
    "        embed = hub.Module(module_url)\n",
    "        em_txt = embed(text_input)\n",
    "        session = tf.compat.v1.train.MonitoredSession()\n",
    "    return lambda x:session.run(em_txt, feed_dict={text_input:list(x)})"
   ]
  },
  {
   "cell_type": "code",
   "execution_count": null,
   "metadata": {},
   "outputs": [],
   "source": [
    "embed_fn = embed_init()\n",
    "\n",
    "# Use a small amount of the data to reduce memory usage\n",
    "N_df = 1000\n",
    "embed_df = embed_fn(processed_text[:N_df])"
   ]
  },
  {
   "cell_type": "code",
   "execution_count": null,
   "metadata": {},
   "outputs": [],
   "source": [
    "def USE_content_recommender(query, database, embedding_df = embed_df, N=10):\n",
    "    \"\"\"\n",
    "    \"\"\"\n",
    "    processed_sent = textprocessor.preprocess([query])\n",
    "    embedding = embed_fn(processed_sent)\n",
    "    similarity_score = np.dot(embedding, embedding_df.T)\n",
    "    \n",
    "    idx = similarity_score.argsort()[0][::-1][:N]\n",
    "    df_reco = database.iloc[idx].copy()\n",
    "    \n",
    "    df_reco[\"score\"] = np.sort(similarity_score)[0][::-1][:N]\n",
    "    \n",
    "    return df_reco"
   ]
  },
  {
   "cell_type": "code",
   "execution_count": null,
   "metadata": {},
   "outputs": [],
   "source": [
    "# Example of a recommendation using USE\n",
    "query = \"Australian vanilla Chardonnay\"\n",
    "\n",
    "USE_content_recommender(query = querys, database = df , N= 10)"
   ]
  }
 ],
 "metadata": {
  "kernelspec": {
   "display_name": "Python 3",
   "language": "python",
   "name": "python3"
  },
  "language_info": {
   "codemirror_mode": {
    "name": "ipython",
    "version": 3
   },
   "file_extension": ".py",
   "mimetype": "text/x-python",
   "name": "python",
   "nbconvert_exporter": "python",
   "pygments_lexer": "ipython3",
   "version": "3.6.8"
  }
 },
 "nbformat": 4,
 "nbformat_minor": 4
}
